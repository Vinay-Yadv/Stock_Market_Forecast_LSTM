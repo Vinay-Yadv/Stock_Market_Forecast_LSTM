{
  "nbformat": 4,
  "nbformat_minor": 0,
  "metadata": {
    "colab": {
      "name": "Untitled8.ipynb",
      "provenance": [],
      "authorship_tag": "ABX9TyO8beIh6AXGcgoi+2Q65QKv"
    },
    "kernelspec": {
      "name": "python3",
      "display_name": "Python 3"
    }
  },
  "cells": [
    {
      "cell_type": "markdown",
      "metadata": {
        "id": "ovEWVVHR3MZR"
      },
      "source": [
        "Stock Market Prediction using Stacked **LSTM**"
      ]
    },
    {
      "cell_type": "code",
      "metadata": {
        "id": "eCBr5AJ-3C4Z"
      },
      "source": [
        "### Data Collection\r\n",
        "import pandas_datareader as pdr\r\n",
        "key=\"70e5f6cbd4203c95a4723ef0034e4b0eb7f822e4\""
      ],
      "execution_count": 1,
      "outputs": []
    },
    {
      "cell_type": "code",
      "metadata": {
        "id": "ZQ-9fcLb3d1F"
      },
      "source": [
        "df = pdr.get_data_tiingo('TSLA', api_key=key)"
      ],
      "execution_count": 2,
      "outputs": []
    },
    {
      "cell_type": "code",
      "metadata": {
        "id": "JABRLux13h3A"
      },
      "source": [
        "df.to_csv('TSLA.csv')"
      ],
      "execution_count": 3,
      "outputs": []
    },
    {
      "cell_type": "code",
      "metadata": {
        "id": "flBCySnr3oWZ"
      },
      "source": [
        "import pandas as pd"
      ],
      "execution_count": 4,
      "outputs": []
    },
    {
      "cell_type": "code",
      "metadata": {
        "colab": {
          "base_uri": "https://localhost:8080/",
          "height": 195
        },
        "id": "GeGS4yJq3p94",
        "outputId": "5fb4b796-a36c-4a63-f3a7-fdc00b4cf703"
      },
      "source": [
        "df=pd.read_csv('TSLA.csv')\r\n",
        "df.head()"
      ],
      "execution_count": 5,
      "outputs": [
        {
          "output_type": "execute_result",
          "data": {
            "text/html": [
              "<div>\n",
              "<style scoped>\n",
              "    .dataframe tbody tr th:only-of-type {\n",
              "        vertical-align: middle;\n",
              "    }\n",
              "\n",
              "    .dataframe tbody tr th {\n",
              "        vertical-align: top;\n",
              "    }\n",
              "\n",
              "    .dataframe thead th {\n",
              "        text-align: right;\n",
              "    }\n",
              "</style>\n",
              "<table border=\"1\" class=\"dataframe\">\n",
              "  <thead>\n",
              "    <tr style=\"text-align: right;\">\n",
              "      <th></th>\n",
              "      <th>symbol</th>\n",
              "      <th>date</th>\n",
              "      <th>close</th>\n",
              "      <th>high</th>\n",
              "      <th>low</th>\n",
              "      <th>open</th>\n",
              "      <th>volume</th>\n",
              "      <th>adjClose</th>\n",
              "      <th>adjHigh</th>\n",
              "      <th>adjLow</th>\n",
              "      <th>adjOpen</th>\n",
              "      <th>adjVolume</th>\n",
              "      <th>divCash</th>\n",
              "      <th>splitFactor</th>\n",
              "    </tr>\n",
              "  </thead>\n",
              "  <tbody>\n",
              "    <tr>\n",
              "      <th>0</th>\n",
              "      <td>TSLA</td>\n",
              "      <td>2016-02-08 00:00:00+00:00</td>\n",
              "      <td>147.99</td>\n",
              "      <td>157.15</td>\n",
              "      <td>146.00</td>\n",
              "      <td>157.105</td>\n",
              "      <td>9312988</td>\n",
              "      <td>29.598</td>\n",
              "      <td>31.430</td>\n",
              "      <td>29.200</td>\n",
              "      <td>31.421</td>\n",
              "      <td>46564940</td>\n",
              "      <td>0.0</td>\n",
              "      <td>1.0</td>\n",
              "    </tr>\n",
              "    <tr>\n",
              "      <th>1</th>\n",
              "      <td>TSLA</td>\n",
              "      <td>2016-02-09 00:00:00+00:00</td>\n",
              "      <td>148.25</td>\n",
              "      <td>159.79</td>\n",
              "      <td>141.05</td>\n",
              "      <td>142.320</td>\n",
              "      <td>8651648</td>\n",
              "      <td>29.650</td>\n",
              "      <td>31.958</td>\n",
              "      <td>28.210</td>\n",
              "      <td>28.464</td>\n",
              "      <td>43258240</td>\n",
              "      <td>0.0</td>\n",
              "      <td>1.0</td>\n",
              "    </tr>\n",
              "    <tr>\n",
              "      <th>2</th>\n",
              "      <td>TSLA</td>\n",
              "      <td>2016-02-10 00:00:00+00:00</td>\n",
              "      <td>143.67</td>\n",
              "      <td>154.97</td>\n",
              "      <td>141.74</td>\n",
              "      <td>150.500</td>\n",
              "      <td>10406513</td>\n",
              "      <td>28.734</td>\n",
              "      <td>30.994</td>\n",
              "      <td>28.348</td>\n",
              "      <td>30.100</td>\n",
              "      <td>52032565</td>\n",
              "      <td>0.0</td>\n",
              "      <td>1.0</td>\n",
              "    </tr>\n",
              "    <tr>\n",
              "      <th>3</th>\n",
              "      <td>TSLA</td>\n",
              "      <td>2016-02-11 00:00:00+00:00</td>\n",
              "      <td>150.47</td>\n",
              "      <td>163.26</td>\n",
              "      <td>147.00</td>\n",
              "      <td>152.000</td>\n",
              "      <td>14252364</td>\n",
              "      <td>30.094</td>\n",
              "      <td>32.652</td>\n",
              "      <td>29.400</td>\n",
              "      <td>30.400</td>\n",
              "      <td>71261820</td>\n",
              "      <td>0.0</td>\n",
              "      <td>1.0</td>\n",
              "    </tr>\n",
              "    <tr>\n",
              "      <th>4</th>\n",
              "      <td>TSLA</td>\n",
              "      <td>2016-02-12 00:00:00+00:00</td>\n",
              "      <td>151.04</td>\n",
              "      <td>157.01</td>\n",
              "      <td>143.70</td>\n",
              "      <td>155.000</td>\n",
              "      <td>7235783</td>\n",
              "      <td>30.208</td>\n",
              "      <td>31.402</td>\n",
              "      <td>28.740</td>\n",
              "      <td>31.000</td>\n",
              "      <td>36178915</td>\n",
              "      <td>0.0</td>\n",
              "      <td>1.0</td>\n",
              "    </tr>\n",
              "  </tbody>\n",
              "</table>\n",
              "</div>"
            ],
            "text/plain": [
              "  symbol                       date   close  ...  adjVolume  divCash  splitFactor\n",
              "0   TSLA  2016-02-08 00:00:00+00:00  147.99  ...   46564940      0.0          1.0\n",
              "1   TSLA  2016-02-09 00:00:00+00:00  148.25  ...   43258240      0.0          1.0\n",
              "2   TSLA  2016-02-10 00:00:00+00:00  143.67  ...   52032565      0.0          1.0\n",
              "3   TSLA  2016-02-11 00:00:00+00:00  150.47  ...   71261820      0.0          1.0\n",
              "4   TSLA  2016-02-12 00:00:00+00:00  151.04  ...   36178915      0.0          1.0\n",
              "\n",
              "[5 rows x 14 columns]"
            ]
          },
          "metadata": {
            "tags": []
          },
          "execution_count": 5
        }
      ]
    },
    {
      "cell_type": "code",
      "metadata": {
        "id": "dzC-PusO3yvh"
      },
      "source": [
        "df1=df.reset_index()['close']"
      ],
      "execution_count": 6,
      "outputs": []
    },
    {
      "cell_type": "code",
      "metadata": {
        "colab": {
          "base_uri": "https://localhost:8080/"
        },
        "id": "774Ljy9Z3462",
        "outputId": "422fcf2c-0bc5-4b5b-8242-f6dc2421af36"
      },
      "source": [
        "df1"
      ],
      "execution_count": 7,
      "outputs": [
        {
          "output_type": "execute_result",
          "data": {
            "text/plain": [
              "0       147.99\n",
              "1       148.25\n",
              "2       143.67\n",
              "3       150.47\n",
              "4       151.04\n",
              "         ...  \n",
              "1253    793.53\n",
              "1254    839.81\n",
              "1255    872.79\n",
              "1256    854.69\n",
              "1257    849.99\n",
              "Name: close, Length: 1258, dtype: float64"
            ]
          },
          "metadata": {
            "tags": []
          },
          "execution_count": 7
        }
      ]
    },
    {
      "cell_type": "code",
      "metadata": {
        "colab": {
          "base_uri": "https://localhost:8080/",
          "height": 282
        },
        "id": "cUHp66CM381D",
        "outputId": "940e83c4-85e1-412b-bc98-c4b7674c01b4"
      },
      "source": [
        "import matplotlib.pyplot as plt\r\n",
        "plt.plot(df1)"
      ],
      "execution_count": 8,
      "outputs": [
        {
          "output_type": "execute_result",
          "data": {
            "text/plain": [
              "[<matplotlib.lines.Line2D at 0x7fed94f5eeb8>]"
            ]
          },
          "metadata": {
            "tags": []
          },
          "execution_count": 8
        },
        {
          "output_type": "display_data",
          "data": {
            "image/png": "[encoded data removed]",
            "text/plain": [
              "<Figure size 432x288 with 1 Axes>"
            ]
          },
          "metadata": {
            "tags": [],
            "needs_background": "light"
          }
        }
      ]
    },
    {
      "cell_type": "markdown",
      "metadata": {
        "id": "nP5UIBqi4HDx"
      },
      "source": [
        "LSTM are sensitive to the scale of the data. so we apply MinMax scaler"
      ]
    },
    {
      "cell_type": "code",
      "metadata": {
        "id": "TPgRpKnJ4E4Q"
      },
      "source": [
        "import numpy as np\r\n",
        "from sklearn.preprocessing import MinMaxScaler\r\n",
        "scaler=MinMaxScaler(feature_range=(0,1))\r\n",
        "df1=scaler.fit_transform(np.array(df1).reshape(-1,1))"
      ],
      "execution_count": 10,
      "outputs": []
    },
    {
      "cell_type": "code",
      "metadata": {
        "colab": {
          "base_uri": "https://localhost:8080/"
        },
        "id": "kdsXXc5E4V0Q",
        "outputId": "a0269fb3-2aaf-46be-e73d-4bf690804ab7"
      },
      "source": [
        "print(df1)"
      ],
      "execution_count": 11,
      "outputs": [
        {
          "output_type": "stream",
          "text": [
            "[[0.00206197]\n",
            " [0.00218607]\n",
            " [0.        ]\n",
            " ...\n",
            " [0.34801535]\n",
            " [0.33937606]\n",
            " [0.33713271]]\n"
          ],
          "name": "stdout"
        }
      ]
    },
    {
      "cell_type": "code",
      "metadata": {
        "id": "rm7gjEOy4aZe"
      },
      "source": [
        "##splitting dataset into train and test split\r\n",
        "training_size=int(len(df1)*0.70)\r\n",
        "test_size=len(df1)-training_size\r\n",
        "train_data,test_data=df1[0:training_size,:],df1[training_size:len(df1),:1]"
      ],
      "execution_count": 12,
      "outputs": []
    },
    {
      "cell_type": "code",
      "metadata": {
        "colab": {
          "base_uri": "https://localhost:8080/"
        },
        "id": "VNhJuqv54aUG",
        "outputId": "f74871e6-3f81-4761-8148-768c67ab7ae4"
      },
      "source": [
        "training_size,test_size"
      ],
      "execution_count": 13,
      "outputs": [
        {
          "output_type": "execute_result",
          "data": {
            "text/plain": [
              "(880, 378)"
            ]
          },
          "metadata": {
            "tags": []
          },
          "execution_count": 13
        }
      ]
    },
    {
      "cell_type": "code",
      "metadata": {
        "id": "GjwlNi7Q4m2O"
      },
      "source": [
        "# convert an array of values into a dataset matrix\r\n",
        "def new_dataset(dataset, time_step=1):\r\n",
        "\tdataX, dataY = [], []\r\n",
        "\tfor i in range(len(dataset)-time_step-1):\r\n",
        "\t\ta = dataset[i:(i+time_step), 0]   ###i=0, 0,1,2,3-----99   100 \r\n",
        "\t\tdataX.append(a)\r\n",
        "\t\tdataY.append(dataset[i + time_step, 0])\r\n",
        "\treturn np.array(dataX), np.array(dataY)"
      ],
      "execution_count": 14,
      "outputs": []
    },
    {
      "cell_type": "code",
      "metadata": {
        "id": "3T5icyJH4r_K"
      },
      "source": [
        "# reshape into X=t,t+1,t+2,t+3 and Y=t+4\r\n",
        "time_step = 100\r\n",
        "X_train, y_train = new_dataset(train_data, time_step)\r\n",
        "X_test, ytest = new_dataset(test_data, time_step)"
      ],
      "execution_count": 15,
      "outputs": []
    },
    {
      "cell_type": "code",
      "metadata": {
        "colab": {
          "base_uri": "https://localhost:8080/"
        },
        "id": "m5AlzdPl4vqf",
        "outputId": "65d9d3b1-86d2-4e86-b710-a4b966c637c7"
      },
      "source": [
        "print(X_train.shape), print(y_train.shape)"
      ],
      "execution_count": 16,
      "outputs": [
        {
          "output_type": "stream",
          "text": [
            "(779, 100)\n",
            "(779,)\n"
          ],
          "name": "stdout"
        },
        {
          "output_type": "execute_result",
          "data": {
            "text/plain": [
              "(None, None)"
            ]
          },
          "metadata": {
            "tags": []
          },
          "execution_count": 16
        }
      ]
    },
    {
      "cell_type": "code",
      "metadata": {
        "colab": {
          "base_uri": "https://localhost:8080/"
        },
        "id": "0gESTtR14vSQ",
        "outputId": "55271e85-3d7d-4ab1-b9e9-aca49de62109"
      },
      "source": [
        "print(X_test.shape), print(ytest.shape)"
      ],
      "execution_count": 17,
      "outputs": [
        {
          "output_type": "stream",
          "text": [
            "(277, 100)\n",
            "(277,)\n"
          ],
          "name": "stdout"
        },
        {
          "output_type": "execute_result",
          "data": {
            "text/plain": [
              "(None, None)"
            ]
          },
          "metadata": {
            "tags": []
          },
          "execution_count": 17
        }
      ]
    },
    {
      "cell_type": "code",
      "metadata": {
        "id": "wf4jESCe40tm"
      },
      "source": [
        "# reshape input to be [samples, time steps, features] which is required for LSTM\r\n",
        "X_train =X_train.reshape(X_train.shape[0],X_train.shape[1] , 1)\r\n",
        "X_test = X_test.reshape(X_test.shape[0],X_test.shape[1] , 1)"
      ],
      "execution_count": 18,
      "outputs": []
    },
    {
      "cell_type": "code",
      "metadata": {
        "id": "O-lB50UY44WW"
      },
      "source": [
        "### Create the Stacked LSTM model\r\n",
        "from tensorflow.keras.models import Sequential\r\n",
        "from tensorflow.keras.layers import Dense\r\n",
        "from tensorflow.keras.layers import LSTM"
      ],
      "execution_count": 19,
      "outputs": []
    },
    {
      "cell_type": "code",
      "metadata": {
        "id": "2A69c5bF48ZO"
      },
      "source": [
        "model=Sequential()\r\n",
        "model.add(LSTM(50,return_sequences=True,input_shape=(100,1)))\r\n",
        "model.add(LSTM(50,return_sequences=True))\r\n",
        "model.add(LSTM(50))\r\n",
        "model.add(Dense(1))\r\n",
        "model.compile(loss='mean_squared_error',optimizer='adam')"
      ],
      "execution_count": 20,
      "outputs": []
    },
    {
      "cell_type": "code",
      "metadata": {
        "colab": {
          "base_uri": "https://localhost:8080/"
        },
        "id": "1vk_bmXV5HZ0",
        "outputId": "ea8fdccf-a2fc-4bf9-9fed-cd21bcc87cce"
      },
      "source": [
        "model.summary()"
      ],
      "execution_count": 21,
      "outputs": [
        {
          "output_type": "stream",
          "text": [
            "Model: \"sequential\"\n",
            "_________________________________________________________________\n",
            "Layer (type)                 Output Shape              Param #   \n",
            "=================================================================\n",
            "lstm (LSTM)                  (None, 100, 50)           10400     \n",
            "_________________________________________________________________\n",
            "lstm_1 (LSTM)                (None, 100, 50)           20200     \n",
            "_________________________________________________________________\n",
            "lstm_2 (LSTM)                (None, 50)                20200     \n",
            "_________________________________________________________________\n",
            "dense (Dense)                (None, 1)                 51        \n",
            "=================================================================\n",
            "Total params: 50,851\n",
            "Trainable params: 50,851\n",
            "Non-trainable params: 0\n",
            "_________________________________________________________________\n"
          ],
          "name": "stdout"
        }
      ]
    },
    {
      "cell_type": "code",
      "metadata": {
        "colab": {
          "base_uri": "https://localhost:8080/"
        },
        "id": "WL3Avm165NgE",
        "outputId": "5ac3858a-05f2-4c80-ac56-a94698f4c414"
      },
      "source": [
        "\r\n",
        "model.fit(X_train,y_train,validation_data=(X_test,ytest),epochs=100,batch_size=64,verbose=1)"
      ],
      "execution_count": 23,
      "outputs": [
        {
          "output_type": "stream",
          "text": [
            "Epoch 1/100\n",
            "13/13 [==============================] - 8s 278ms/step - loss: 0.0019 - val_loss: 0.0598\n",
            "Epoch 2/100\n",
            "13/13 [==============================] - 3s 202ms/step - loss: 3.8857e-04 - val_loss: 0.0465\n",
            "Epoch 3/100\n",
            "13/13 [==============================] - 2s 189ms/step - loss: 2.7233e-04 - val_loss: 0.0268\n",
            "Epoch 4/100\n",
            "13/13 [==============================] - 2s 189ms/step - loss: 1.6007e-04 - val_loss: 0.0200\n",
            "Epoch 5/100\n",
            "13/13 [==============================] - 2s 190ms/step - loss: 1.2786e-04 - val_loss: 0.0198\n",
            "Epoch 6/100\n",
            "13/13 [==============================] - 2s 187ms/step - loss: 1.1341e-04 - val_loss: 0.0200\n",
            "Epoch 7/100\n",
            "13/13 [==============================] - 3s 237ms/step - loss: 1.1032e-04 - val_loss: 0.0188\n",
            "Epoch 8/100\n",
            "13/13 [==============================] - 3s 198ms/step - loss: 9.2211e-05 - val_loss: 0.0186\n",
            "Epoch 9/100\n",
            "13/13 [==============================] - 3s 196ms/step - loss: 9.8987e-05 - val_loss: 0.0180\n",
            "Epoch 10/100\n",
            "13/13 [==============================] - 3s 191ms/step - loss: 1.0575e-04 - val_loss: 0.0174\n",
            "Epoch 11/100\n",
            "13/13 [==============================] - 3s 198ms/step - loss: 9.8562e-05 - val_loss: 0.0172\n",
            "Epoch 12/100\n",
            "13/13 [==============================] - 2s 191ms/step - loss: 9.6811e-05 - val_loss: 0.0173\n",
            "Epoch 13/100\n",
            "13/13 [==============================] - 3s 202ms/step - loss: 1.0534e-04 - val_loss: 0.0165\n",
            "Epoch 14/100\n",
            "13/13 [==============================] - 3s 194ms/step - loss: 1.0637e-04 - val_loss: 0.0156\n",
            "Epoch 15/100\n",
            "13/13 [==============================] - 2s 194ms/step - loss: 9.3116e-05 - val_loss: 0.0159\n",
            "Epoch 16/100\n",
            "13/13 [==============================] - 3s 201ms/step - loss: 8.9351e-05 - val_loss: 0.0151\n",
            "Epoch 17/100\n",
            "13/13 [==============================] - 2s 193ms/step - loss: 8.6344e-05 - val_loss: 0.0155\n",
            "Epoch 18/100\n",
            "13/13 [==============================] - 2s 190ms/step - loss: 8.9537e-05 - val_loss: 0.0152\n",
            "Epoch 19/100\n",
            "13/13 [==============================] - 3s 195ms/step - loss: 8.4051e-05 - val_loss: 0.0158\n",
            "Epoch 20/100\n",
            "13/13 [==============================] - 2s 193ms/step - loss: 1.1756e-04 - val_loss: 0.0149\n",
            "Epoch 21/100\n",
            "13/13 [==============================] - 3s 202ms/step - loss: 8.9281e-05 - val_loss: 0.0138\n",
            "Epoch 22/100\n",
            "13/13 [==============================] - 3s 197ms/step - loss: 7.4081e-05 - val_loss: 0.0143\n",
            "Epoch 23/100\n",
            "13/13 [==============================] - 3s 194ms/step - loss: 8.2787e-05 - val_loss: 0.0139\n",
            "Epoch 24/100\n",
            "13/13 [==============================] - 2s 193ms/step - loss: 9.3914e-05 - val_loss: 0.0132\n",
            "Epoch 25/100\n",
            "13/13 [==============================] - 3s 197ms/step - loss: 7.6020e-05 - val_loss: 0.0128\n",
            "Epoch 26/100\n",
            "13/13 [==============================] - 3s 195ms/step - loss: 6.8513e-05 - val_loss: 0.0129\n",
            "Epoch 27/100\n",
            "13/13 [==============================] - 3s 196ms/step - loss: 7.4893e-05 - val_loss: 0.0129\n",
            "Epoch 28/100\n",
            "13/13 [==============================] - 3s 207ms/step - loss: 7.6866e-05 - val_loss: 0.0126\n",
            "Epoch 29/100\n",
            "13/13 [==============================] - 3s 204ms/step - loss: 6.2120e-05 - val_loss: 0.0122\n",
            "Epoch 30/100\n",
            "13/13 [==============================] - 3s 198ms/step - loss: 6.7097e-05 - val_loss: 0.0125\n",
            "Epoch 31/100\n",
            "13/13 [==============================] - 3s 196ms/step - loss: 6.2350e-05 - val_loss: 0.0113\n",
            "Epoch 32/100\n",
            "13/13 [==============================] - 3s 198ms/step - loss: 6.0903e-05 - val_loss: 0.0118\n",
            "Epoch 33/100\n",
            "13/13 [==============================] - 2s 193ms/step - loss: 6.2895e-05 - val_loss: 0.0114\n",
            "Epoch 34/100\n",
            "13/13 [==============================] - 3s 193ms/step - loss: 5.6987e-05 - val_loss: 0.0114\n",
            "Epoch 35/100\n",
            "13/13 [==============================] - 3s 196ms/step - loss: 6.1997e-05 - val_loss: 0.0115\n",
            "Epoch 36/100\n",
            "13/13 [==============================] - 3s 195ms/step - loss: 6.5426e-05 - val_loss: 0.0105\n",
            "Epoch 37/100\n",
            "13/13 [==============================] - 3s 194ms/step - loss: 6.9100e-05 - val_loss: 0.0102\n",
            "Epoch 38/100\n",
            "13/13 [==============================] - 3s 198ms/step - loss: 5.6615e-05 - val_loss: 0.0114\n",
            "Epoch 39/100\n",
            "13/13 [==============================] - 3s 205ms/step - loss: 5.7828e-05 - val_loss: 0.0099\n",
            "Epoch 40/100\n",
            "13/13 [==============================] - 3s 199ms/step - loss: 5.5385e-05 - val_loss: 0.0115\n",
            "Epoch 41/100\n",
            "13/13 [==============================] - 3s 196ms/step - loss: 6.0649e-05 - val_loss: 0.0110\n",
            "Epoch 42/100\n",
            "13/13 [==============================] - 3s 197ms/step - loss: 5.9254e-05 - val_loss: 0.0106\n",
            "Epoch 43/100\n",
            "13/13 [==============================] - 3s 194ms/step - loss: 5.4491e-05 - val_loss: 0.0095\n",
            "Epoch 44/100\n",
            "13/13 [==============================] - 3s 196ms/step - loss: 5.4303e-05 - val_loss: 0.0097\n",
            "Epoch 45/100\n",
            "13/13 [==============================] - 3s 195ms/step - loss: 5.3637e-05 - val_loss: 0.0102\n",
            "Epoch 46/100\n",
            "13/13 [==============================] - 3s 193ms/step - loss: 5.2048e-05 - val_loss: 0.0088\n",
            "Epoch 47/100\n",
            "13/13 [==============================] - 3s 197ms/step - loss: 5.0703e-05 - val_loss: 0.0100\n",
            "Epoch 48/100\n",
            "13/13 [==============================] - 3s 197ms/step - loss: 4.6296e-05 - val_loss: 0.0088\n",
            "Epoch 49/100\n",
            "13/13 [==============================] - 3s 196ms/step - loss: 4.5897e-05 - val_loss: 0.0087\n",
            "Epoch 50/100\n",
            "13/13 [==============================] - 3s 198ms/step - loss: 6.6574e-05 - val_loss: 0.0095\n",
            "Epoch 51/100\n",
            "13/13 [==============================] - 3s 200ms/step - loss: 4.9280e-05 - val_loss: 0.0096\n",
            "Epoch 52/100\n",
            "13/13 [==============================] - 3s 195ms/step - loss: 5.8847e-05 - val_loss: 0.0082\n",
            "Epoch 53/100\n",
            "13/13 [==============================] - 3s 193ms/step - loss: 4.5082e-05 - val_loss: 0.0094\n",
            "Epoch 54/100\n",
            "13/13 [==============================] - 3s 206ms/step - loss: 4.2742e-05 - val_loss: 0.0083\n",
            "Epoch 55/100\n",
            "13/13 [==============================] - 3s 199ms/step - loss: 4.4520e-05 - val_loss: 0.0098\n",
            "Epoch 56/100\n",
            "13/13 [==============================] - 3s 204ms/step - loss: 4.8693e-05 - val_loss: 0.0086\n",
            "Epoch 57/100\n",
            "13/13 [==============================] - 3s 198ms/step - loss: 4.4592e-05 - val_loss: 0.0084\n",
            "Epoch 58/100\n",
            "13/13 [==============================] - 3s 202ms/step - loss: 5.0225e-05 - val_loss: 0.0075\n",
            "Epoch 59/100\n",
            "13/13 [==============================] - 3s 200ms/step - loss: 5.4296e-05 - val_loss: 0.0086\n",
            "Epoch 60/100\n",
            "13/13 [==============================] - 3s 200ms/step - loss: 4.1299e-05 - val_loss: 0.0075\n",
            "Epoch 61/100\n",
            "13/13 [==============================] - 3s 199ms/step - loss: 3.9253e-05 - val_loss: 0.0080\n",
            "Epoch 62/100\n",
            "13/13 [==============================] - 3s 199ms/step - loss: 4.2073e-05 - val_loss: 0.0081\n",
            "Epoch 63/100\n",
            "13/13 [==============================] - 3s 206ms/step - loss: 4.1933e-05 - val_loss: 0.0074\n",
            "Epoch 64/100\n",
            "13/13 [==============================] - 3s 199ms/step - loss: 3.9537e-05 - val_loss: 0.0078\n",
            "Epoch 65/100\n",
            "13/13 [==============================] - 3s 199ms/step - loss: 3.7618e-05 - val_loss: 0.0079\n",
            "Epoch 66/100\n",
            "13/13 [==============================] - 3s 207ms/step - loss: 3.4634e-05 - val_loss: 0.0078\n",
            "Epoch 67/100\n",
            "13/13 [==============================] - 3s 201ms/step - loss: 3.7482e-05 - val_loss: 0.0078\n",
            "Epoch 68/100\n",
            "13/13 [==============================] - 3s 200ms/step - loss: 3.7017e-05 - val_loss: 0.0073\n",
            "Epoch 69/100\n",
            "13/13 [==============================] - 3s 197ms/step - loss: 3.6374e-05 - val_loss: 0.0073\n",
            "Epoch 70/100\n",
            "13/13 [==============================] - 3s 202ms/step - loss: 3.7684e-05 - val_loss: 0.0069\n",
            "Epoch 71/100\n",
            "13/13 [==============================] - 3s 207ms/step - loss: 3.7263e-05 - val_loss: 0.0071\n",
            "Epoch 72/100\n",
            "13/13 [==============================] - 3s 213ms/step - loss: 3.8724e-05 - val_loss: 0.0075\n",
            "Epoch 73/100\n",
            "13/13 [==============================] - 3s 213ms/step - loss: 3.8883e-05 - val_loss: 0.0083\n",
            "Epoch 74/100\n",
            "13/13 [==============================] - 4s 297ms/step - loss: 3.8973e-05 - val_loss: 0.0061\n",
            "Epoch 75/100\n",
            "13/13 [==============================] - 3s 230ms/step - loss: 4.3344e-05 - val_loss: 0.0069\n",
            "Epoch 76/100\n",
            "13/13 [==============================] - 3s 221ms/step - loss: 4.5315e-05 - val_loss: 0.0085\n",
            "Epoch 77/100\n",
            "13/13 [==============================] - 3s 216ms/step - loss: 3.7601e-05 - val_loss: 0.0070\n",
            "Epoch 78/100\n",
            "13/13 [==============================] - 3s 221ms/step - loss: 3.4082e-05 - val_loss: 0.0072\n",
            "Epoch 79/100\n",
            "13/13 [==============================] - 3s 198ms/step - loss: 3.3677e-05 - val_loss: 0.0069\n",
            "Epoch 80/100\n",
            "13/13 [==============================] - 3s 206ms/step - loss: 3.2834e-05 - val_loss: 0.0075\n",
            "Epoch 81/100\n",
            "13/13 [==============================] - 3s 197ms/step - loss: 3.3505e-05 - val_loss: 0.0067\n",
            "Epoch 82/100\n",
            "13/13 [==============================] - 3s 198ms/step - loss: 3.0403e-05 - val_loss: 0.0075\n",
            "Epoch 83/100\n",
            "13/13 [==============================] - 3s 207ms/step - loss: 3.1333e-05 - val_loss: 0.0067\n",
            "Epoch 84/100\n",
            "13/13 [==============================] - 3s 201ms/step - loss: 2.9455e-05 - val_loss: 0.0076\n",
            "Epoch 85/100\n",
            "13/13 [==============================] - 3s 199ms/step - loss: 3.1472e-05 - val_loss: 0.0068\n",
            "Epoch 86/100\n",
            "13/13 [==============================] - 3s 202ms/step - loss: 2.7535e-05 - val_loss: 0.0073\n",
            "Epoch 87/100\n",
            "13/13 [==============================] - 3s 203ms/step - loss: 3.1695e-05 - val_loss: 0.0073\n",
            "Epoch 88/100\n",
            "13/13 [==============================] - 3s 210ms/step - loss: 3.1793e-05 - val_loss: 0.0069\n",
            "Epoch 89/100\n",
            "13/13 [==============================] - 3s 203ms/step - loss: 2.6687e-05 - val_loss: 0.0070\n",
            "Epoch 90/100\n",
            "13/13 [==============================] - 3s 202ms/step - loss: 2.6494e-05 - val_loss: 0.0067\n",
            "Epoch 91/100\n",
            "13/13 [==============================] - 3s 199ms/step - loss: 3.3706e-05 - val_loss: 0.0067\n",
            "Epoch 92/100\n",
            "13/13 [==============================] - 3s 202ms/step - loss: 2.8169e-05 - val_loss: 0.0076\n",
            "Epoch 93/100\n",
            "13/13 [==============================] - 3s 202ms/step - loss: 4.0342e-05 - val_loss: 0.0066\n",
            "Epoch 94/100\n",
            "13/13 [==============================] - 3s 197ms/step - loss: 3.0483e-05 - val_loss: 0.0073\n",
            "Epoch 95/100\n",
            "13/13 [==============================] - 3s 214ms/step - loss: 2.6094e-05 - val_loss: 0.0070\n",
            "Epoch 96/100\n",
            "13/13 [==============================] - 3s 202ms/step - loss: 2.8946e-05 - val_loss: 0.0073\n",
            "Epoch 97/100\n",
            "13/13 [==============================] - 3s 202ms/step - loss: 2.6127e-05 - val_loss: 0.0066\n",
            "Epoch 98/100\n",
            "13/13 [==============================] - 3s 197ms/step - loss: 2.4557e-05 - val_loss: 0.0067\n",
            "Epoch 99/100\n",
            "13/13 [==============================] - 3s 203ms/step - loss: 2.7245e-05 - val_loss: 0.0070\n",
            "Epoch 100/100\n",
            "13/13 [==============================] - 3s 204ms/step - loss: 2.5856e-05 - val_loss: 0.0069\n"
          ],
          "name": "stdout"
        },
        {
          "output_type": "execute_result",
          "data": {
            "text/plain": [
              "<tensorflow.python.keras.callbacks.History at 0x7fed501256d8>"
            ]
          },
          "metadata": {
            "tags": []
          },
          "execution_count": 23
        }
      ]
    },
    {
      "cell_type": "code",
      "metadata": {
        "id": "V5TVTNlQ54nu"
      },
      "source": [
        "import tensorflow as tf"
      ],
      "execution_count": 24,
      "outputs": []
    },
    {
      "cell_type": "code",
      "metadata": {
        "colab": {
          "base_uri": "https://localhost:8080/",
          "height": 35
        },
        "id": "yAJVtOom6Hhe",
        "outputId": "b51bde7e-7588-4b3c-f9f0-23066c3e4bea"
      },
      "source": [
        "tf.__version__"
      ],
      "execution_count": 25,
      "outputs": [
        {
          "output_type": "execute_result",
          "data": {
            "application/vnd.google.colaboratory.intrinsic+json": {
              "type": "string"
            },
            "text/plain": [
              "'2.4.1'"
            ]
          },
          "metadata": {
            "tags": []
          },
          "execution_count": 25
        }
      ]
    },
    {
      "cell_type": "code",
      "metadata": {
        "id": "rCxmMTpB6KXz"
      },
      "source": [
        "## Prediction and checking performance metrics\r\n",
        "train_predict=model.predict(X_train)\r\n",
        "test_predict=model.predict(X_test)"
      ],
      "execution_count": 26,
      "outputs": []
    },
    {
      "cell_type": "code",
      "metadata": {
        "id": "W-3gRMFl6TL8"
      },
      "source": [
        "##Transformback to original form\r\n",
        "train_predict=scaler.inverse_transform(train_predict)\r\n",
        "test_predict=scaler.inverse_transform(test_predict)"
      ],
      "execution_count": 27,
      "outputs": []
    },
    {
      "cell_type": "code",
      "metadata": {
        "colab": {
          "base_uri": "https://localhost:8080/"
        },
        "id": "pbuGPAPK6cr5",
        "outputId": "f0d44c9d-aa0e-474f-d67f-930bcd007934"
      },
      "source": [
        "### Calculate RMSE performance metrics\r\n",
        "import math\r\n",
        "from sklearn.metrics import mean_squared_error\r\n",
        "math.sqrt(mean_squared_error(y_train,train_predict))"
      ],
      "execution_count": 28,
      "outputs": [
        {
          "output_type": "execute_result",
          "data": {
            "text/plain": [
              "292.7602784262373"
            ]
          },
          "metadata": {
            "tags": []
          },
          "execution_count": 28
        }
      ]
    },
    {
      "cell_type": "code",
      "metadata": {
        "colab": {
          "base_uri": "https://localhost:8080/",
          "height": 265
        },
        "id": "i-yiJO7X6p9w",
        "outputId": "32916f30-d027-40bb-fbd1-40973aac49b5"
      },
      "source": [
        "### Plotting \r\n",
        "# shift train predictions for plotting\r\n",
        "look_back=100\r\n",
        "trainPredictPlot = np.empty_like(df1)\r\n",
        "trainPredictPlot[:, :] = np.nan\r\n",
        "trainPredictPlot[look_back:len(train_predict)+look_back, :] = train_predict\r\n",
        "# shift test predictions for plotting\r\n",
        "testPredictPlot = np.empty_like(df1)\r\n",
        "testPredictPlot[:, :] = np.nan\r\n",
        "testPredictPlot[len(train_predict)+(look_back*2)+1:len(df1)-1, :] = test_predict\r\n",
        "# plot baseline and predictions\r\n",
        "plt.plot(scaler.inverse_transform(df1))\r\n",
        "plt.plot(trainPredictPlot)\r\n",
        "plt.plot(testPredictPlot)\r\n",
        "plt.show()"
      ],
      "execution_count": 30,
      "outputs": [
        {
          "output_type": "display_data",
          "data": {
            "image/png": "[encoded data removed]",
            "text/plain": [
              "<Figure size 432x288 with 1 Axes>"
            ]
          },
          "metadata": {
            "tags": [],
            "needs_background": "light"
          }
        }
      ]
    },
    {
      "cell_type": "code",
      "metadata": {
        "colab": {
          "base_uri": "https://localhost:8080/"
        },
        "id": "K5tq4T0i636z",
        "outputId": "bcd6d463-070b-4006-9673-29ea8455f94f"
      },
      "source": [
        "len(test_data)"
      ],
      "execution_count": 31,
      "outputs": [
        {
          "output_type": "execute_result",
          "data": {
            "text/plain": [
              "378"
            ]
          },
          "metadata": {
            "tags": []
          },
          "execution_count": 31
        }
      ]
    },
    {
      "cell_type": "code",
      "metadata": {
        "colab": {
          "base_uri": "https://localhost:8080/"
        },
        "id": "quqE1AUG65ja",
        "outputId": "086e1d36-ec52-4260-8b8c-82df35a755c8"
      },
      "source": [
        "x_input=test_data[278:].reshape(1,-1)\r\n",
        "x_input.shape"
      ],
      "execution_count": 33,
      "outputs": [
        {
          "output_type": "execute_result",
          "data": {
            "text/plain": [
              "(1, 100)"
            ]
          },
          "metadata": {
            "tags": []
          },
          "execution_count": 33
        }
      ]
    },
    {
      "cell_type": "code",
      "metadata": {
        "id": "A_nexv466-Qu"
      },
      "source": [
        "temp_input=list(x_input)\r\n",
        "temp_input=temp_input[0].tolist()"
      ],
      "execution_count": 34,
      "outputs": []
    },
    {
      "cell_type": "code",
      "metadata": {
        "colab": {
          "base_uri": "https://localhost:8080/"
        },
        "id": "-o89GSjG7MMQ",
        "outputId": "68958318-4fde-44c9-ce7f-34bad92fbf60"
      },
      "source": [
        "temp_input"
      ],
      "execution_count": 35,
      "outputs": [
        {
          "output_type": "execute_result",
          "data": {
            "text/plain": [
              "[0.13171334746167213,\n",
              " 0.14609943295721406,\n",
              " 0.14228096301811866,\n",
              " 0.13353189377016633,\n",
              " 0.14246711342764956,\n",
              " 0.14592282872253087,\n",
              " 0.13391374076407586,\n",
              " 0.11297420623556144,\n",
              " 0.11652061019149627,\n",
              " 0.12585199610516068,\n",
              " 0.13246749527464347,\n",
              " 0.1314508276533593,\n",
              " 0.13619527655268532,\n",
              " 0.145335738969395,\n",
              " 0.12955113885865932,\n",
              " 0.13460583844053686,\n",
              " 0.12902132615460987,\n",
              " 0.13442446111842987,\n",
              " 0.13472039253870977,\n",
              " 0.1385770471771961,\n",
              " 0.14253870973900762,\n",
              " 0.14461500276839068,\n",
              " 0.1516075758443592,\n",
              " 0.14567940126391354,\n",
              " 0.14128338774653,\n",
              " 0.13706397846382956,\n",
              " 0.13282070374400978,\n",
              " 0.1331548198636806,\n",
              " 0.13465834240219948,\n",
              " 0.13219542929148292,\n",
              " 0.13202837123164746,\n",
              " 0.13412852969814998,\n",
              " 0.1252219485652099,\n",
              " 0.12751780361609105,\n",
              " 0.11663993737709301,\n",
              " 0.12259197739465798,\n",
              " 0.13375622887908817,\n",
              " 0.13236248735131834,\n",
              " 0.1405292399335586,\n",
              " 0.13664394677052905,\n",
              " 0.13249613379918668,\n",
              " 0.12729346850716922,\n",
              " 0.1305248486931287,\n",
              " 0.12796170074651086,\n",
              " 0.12640567424632948,\n",
              " 0.12620997766195086,\n",
              " 0.1422093667067606,\n",
              " 0.16370257937644384,\n",
              " 0.16973098879279075,\n",
              " 0.16512018634133302,\n",
              " 0.18050862019588754,\n",
              " 0.19651278232812114,\n",
              " 0.20540027111136572,\n",
              " 0.21101342192183592,\n",
              " 0.20234549516008937,\n",
              " 0.21053611317944904,\n",
              " 0.20292781182580144,\n",
              " 0.21465051453882433,\n",
              " 0.2173520820207343,\n",
              " 0.23774271149550374,\n",
              " 0.24161845848368563,\n",
              " 0.2199486415793192,\n",
              " 0.23073104606983985,\n",
              " 0.22257861274987117,\n",
              " 0.23682150562269705,\n",
              " 0.233680814097791,\n",
              " 0.22867861847757603,\n",
              " 0.24449185711285487,\n",
              " 0.2631546289401837,\n",
              " 0.24160891230883785,\n",
              " 0.23706493308131438,\n",
              " 0.23975695438837663,\n",
              " 0.24729365943066617,\n",
              " 0.24821009221604906,\n",
              " 0.249307902323539,\n",
              " 0.2630496210168585,\n",
              " 0.2682475132214522,\n",
              " 0.2797506539129771,\n",
              " 0.2822994825973233,\n",
              " 0.2922609160509384,\n",
              " 0.32092807911869714,\n",
              " 0.35146629245661265,\n",
              " 0.3186131317181206,\n",
              " 0.3368701911144205,\n",
              " 0.33924241556408347,\n",
              " 0.3347509402982225,\n",
              " 0.32575844359165285,\n",
              " 0.3345361513641484,\n",
              " 0.3373522729442313,\n",
              " 0.33474616721079864,\n",
              " 0.33553372663573705,\n",
              " 0.35183859327567446,\n",
              " 0.35293163029574054,\n",
              " 0.343896175802356,\n",
              " 0.3301830956335796,\n",
              " 0.3101838593275674,\n",
              " 0.33227370792523436,\n",
              " 0.34801535024915514,\n",
              " 0.33937606201195186,\n",
              " 0.3371327109227333]"
            ]
          },
          "metadata": {
            "tags": []
          },
          "execution_count": 35
        }
      ]
    },
    {
      "cell_type": "code",
      "metadata": {
        "colab": {
          "base_uri": "https://localhost:8080/"
        },
        "id": "YGFhlw407ONw",
        "outputId": "ba713dd5-bdb3-4e19-cfe8-cb05e5a773c4"
      },
      "source": [
        "# demonstrate prediction for next 10 days\r\n",
        "from numpy import array\r\n",
        "\r\n",
        "lst_output=[]\r\n",
        "n_steps=100\r\n",
        "i=0\r\n",
        "while(i<30):\r\n",
        "    \r\n",
        "    if(len(temp_input)>100):\r\n",
        "        #print(temp_input)\r\n",
        "        x_input=np.array(temp_input[1:])\r\n",
        "        print(\"{} day input {}\".format(i,x_input))\r\n",
        "        x_input=x_input.reshape(1,-1)\r\n",
        "        x_input = x_input.reshape((1, n_steps, 1))\r\n",
        "        #print(x_input)\r\n",
        "        yhat = model.predict(x_input, verbose=0)\r\n",
        "        print(\"{} day output {}\".format(i,yhat))\r\n",
        "        temp_input.extend(yhat[0].tolist())\r\n",
        "        temp_input=temp_input[1:]\r\n",
        "        #print(temp_input)\r\n",
        "        lst_output.extend(yhat.tolist())\r\n",
        "        i=i+1\r\n",
        "    else:\r\n",
        "        x_input = x_input.reshape((1, n_steps,1))\r\n",
        "        yhat = model.predict(x_input, verbose=0)\r\n",
        "        print(yhat[0])\r\n",
        "        temp_input.extend(yhat[0].tolist())\r\n",
        "        print(len(temp_input))\r\n",
        "        lst_output.extend(yhat.tolist())\r\n",
        "        i=i+1\r\n",
        "    \r\n",
        "\r\n",
        "print(lst_output)"
      ],
      "execution_count": 37,
      "outputs": [
        {
          "output_type": "stream",
          "text": [
            "0 day input [0.13202837 0.13412853 0.12522195 0.1275178  0.11663994 0.12259198\n",
            " 0.13375623 0.13236249 0.14052924 0.13664395 0.13249613 0.12729347\n",
            " 0.13052485 0.1279617  0.12640567 0.12620998 0.14220937 0.16370258\n",
            " 0.16973099 0.16512019 0.18050862 0.19651278 0.20540027 0.21101342\n",
            " 0.2023455  0.21053611 0.20292781 0.21465051 0.21735208 0.23774271\n",
            " 0.24161846 0.21994864 0.23073105 0.22257861 0.23682151 0.23368081\n",
            " 0.22867862 0.24449186 0.26315463 0.24160891 0.23706493 0.23975695\n",
            " 0.24729366 0.24821009 0.2493079  0.26304962 0.26824751 0.27975065\n",
            " 0.28229948 0.29226092 0.32092808 0.35146629 0.31861313 0.33687019\n",
            " 0.33924242 0.33475094 0.32575844 0.33453615 0.33735227 0.33474617\n",
            " 0.33553373 0.35183859 0.35293163 0.34389618 0.3301831  0.31018386\n",
            " 0.33227371 0.34801535 0.33937606 0.33713271 0.30769989 0.29756686\n",
            " 0.28066978 0.26216373 0.24439077 0.22840165 0.21472566 0.20358062\n",
            " 0.1949252  0.18850881 0.18393998 0.18075815 0.17849667 0.17673154\n",
            " 0.17511293 0.17338271 0.17137815 0.16902506 0.16632414 0.16333191\n",
            " 0.16014053 0.1568585  0.15359396 0.15044208 0.14747699 0.14474781\n",
            " 0.14227864 0.14007114 0.13810901 0.13636343]\n",
            "0 day output [[0.13479844]]\n",
            "1 day input [0.13412853 0.12522195 0.1275178  0.11663994 0.12259198 0.13375623\n",
            " 0.13236249 0.14052924 0.13664395 0.13249613 0.12729347 0.13052485\n",
            " 0.1279617  0.12640567 0.12620998 0.14220937 0.16370258 0.16973099\n",
            " 0.16512019 0.18050862 0.19651278 0.20540027 0.21101342 0.2023455\n",
            " 0.21053611 0.20292781 0.21465051 0.21735208 0.23774271 0.24161846\n",
            " 0.21994864 0.23073105 0.22257861 0.23682151 0.23368081 0.22867862\n",
            " 0.24449186 0.26315463 0.24160891 0.23706493 0.23975695 0.24729366\n",
            " 0.24821009 0.2493079  0.26304962 0.26824751 0.27975065 0.28229948\n",
            " 0.29226092 0.32092808 0.35146629 0.31861313 0.33687019 0.33924242\n",
            " 0.33475094 0.32575844 0.33453615 0.33735227 0.33474617 0.33553373\n",
            " 0.35183859 0.35293163 0.34389618 0.3301831  0.31018386 0.33227371\n",
            " 0.34801535 0.33937606 0.33713271 0.30769989 0.29756686 0.28066978\n",
            " 0.26216373 0.24439077 0.22840165 0.21472566 0.20358062 0.1949252\n",
            " 0.18850881 0.18393998 0.18075815 0.17849667 0.17673154 0.17511293\n",
            " 0.17338271 0.17137815 0.16902506 0.16632414 0.16333191 0.16014053\n",
            " 0.1568585  0.15359396 0.15044208 0.14747699 0.14474781 0.14227864\n",
            " 0.14007114 0.13810901 0.13636343 0.13479844]\n",
            "1 day output [[0.13337587]]\n",
            "2 day input [0.12522195 0.1275178  0.11663994 0.12259198 0.13375623 0.13236249\n",
            " 0.14052924 0.13664395 0.13249613 0.12729347 0.13052485 0.1279617\n",
            " 0.12640567 0.12620998 0.14220937 0.16370258 0.16973099 0.16512019\n",
            " 0.18050862 0.19651278 0.20540027 0.21101342 0.2023455  0.21053611\n",
            " 0.20292781 0.21465051 0.21735208 0.23774271 0.24161846 0.21994864\n",
            " 0.23073105 0.22257861 0.23682151 0.23368081 0.22867862 0.24449186\n",
            " 0.26315463 0.24160891 0.23706493 0.23975695 0.24729366 0.24821009\n",
            " 0.2493079  0.26304962 0.26824751 0.27975065 0.28229948 0.29226092\n",
            " 0.32092808 0.35146629 0.31861313 0.33687019 0.33924242 0.33475094\n",
            " 0.32575844 0.33453615 0.33735227 0.33474617 0.33553373 0.35183859\n",
            " 0.35293163 0.34389618 0.3301831  0.31018386 0.33227371 0.34801535\n",
            " 0.33937606 0.33713271 0.30769989 0.29756686 0.28066978 0.26216373\n",
            " 0.24439077 0.22840165 0.21472566 0.20358062 0.1949252  0.18850881\n",
            " 0.18393998 0.18075815 0.17849667 0.17673154 0.17511293 0.17338271\n",
            " 0.17137815 0.16902506 0.16632414 0.16333191 0.16014053 0.1568585\n",
            " 0.15359396 0.15044208 0.14747699 0.14474781 0.14227864 0.14007114\n",
            " 0.13810901 0.13636343 0.13479844 0.13337587]\n",
            "2 day output [[0.13205934]]\n",
            "3 day input [0.1275178  0.11663994 0.12259198 0.13375623 0.13236249 0.14052924\n",
            " 0.13664395 0.13249613 0.12729347 0.13052485 0.1279617  0.12640567\n",
            " 0.12620998 0.14220937 0.16370258 0.16973099 0.16512019 0.18050862\n",
            " 0.19651278 0.20540027 0.21101342 0.2023455  0.21053611 0.20292781\n",
            " 0.21465051 0.21735208 0.23774271 0.24161846 0.21994864 0.23073105\n",
            " 0.22257861 0.23682151 0.23368081 0.22867862 0.24449186 0.26315463\n",
            " 0.24160891 0.23706493 0.23975695 0.24729366 0.24821009 0.2493079\n",
            " 0.26304962 0.26824751 0.27975065 0.28229948 0.29226092 0.32092808\n",
            " 0.35146629 0.31861313 0.33687019 0.33924242 0.33475094 0.32575844\n",
            " 0.33453615 0.33735227 0.33474617 0.33553373 0.35183859 0.35293163\n",
            " 0.34389618 0.3301831  0.31018386 0.33227371 0.34801535 0.33937606\n",
            " 0.33713271 0.30769989 0.29756686 0.28066978 0.26216373 0.24439077\n",
            " 0.22840165 0.21472566 0.20358062 0.1949252  0.18850881 0.18393998\n",
            " 0.18075815 0.17849667 0.17673154 0.17511293 0.17338271 0.17137815\n",
            " 0.16902506 0.16632414 0.16333191 0.16014053 0.1568585  0.15359396\n",
            " 0.15044208 0.14747699 0.14474781 0.14227864 0.14007114 0.13810901\n",
            " 0.13636343 0.13479844 0.13337587 0.13205934]\n",
            "3 day output [[0.13081709]]\n",
            "4 day input [0.11663994 0.12259198 0.13375623 0.13236249 0.14052924 0.13664395\n",
            " 0.13249613 0.12729347 0.13052485 0.1279617  0.12640567 0.12620998\n",
            " 0.14220937 0.16370258 0.16973099 0.16512019 0.18050862 0.19651278\n",
            " 0.20540027 0.21101342 0.2023455  0.21053611 0.20292781 0.21465051\n",
            " 0.21735208 0.23774271 0.24161846 0.21994864 0.23073105 0.22257861\n",
            " 0.23682151 0.23368081 0.22867862 0.24449186 0.26315463 0.24160891\n",
            " 0.23706493 0.23975695 0.24729366 0.24821009 0.2493079  0.26304962\n",
            " 0.26824751 0.27975065 0.28229948 0.29226092 0.32092808 0.35146629\n",
            " 0.31861313 0.33687019 0.33924242 0.33475094 0.32575844 0.33453615\n",
            " 0.33735227 0.33474617 0.33553373 0.35183859 0.35293163 0.34389618\n",
            " 0.3301831  0.31018386 0.33227371 0.34801535 0.33937606 0.33713271\n",
            " 0.30769989 0.29756686 0.28066978 0.26216373 0.24439077 0.22840165\n",
            " 0.21472566 0.20358062 0.1949252  0.18850881 0.18393998 0.18075815\n",
            " 0.17849667 0.17673154 0.17511293 0.17338271 0.17137815 0.16902506\n",
            " 0.16632414 0.16333191 0.16014053 0.1568585  0.15359396 0.15044208\n",
            " 0.14747699 0.14474781 0.14227864 0.14007114 0.13810901 0.13636343\n",
            " 0.13479844 0.13337587 0.13205934 0.13081709]\n",
            "4 day output [[0.12962383]]\n",
            "5 day input [0.12259198 0.13375623 0.13236249 0.14052924 0.13664395 0.13249613\n",
            " 0.12729347 0.13052485 0.1279617  0.12640567 0.12620998 0.14220937\n",
            " 0.16370258 0.16973099 0.16512019 0.18050862 0.19651278 0.20540027\n",
            " 0.21101342 0.2023455  0.21053611 0.20292781 0.21465051 0.21735208\n",
            " 0.23774271 0.24161846 0.21994864 0.23073105 0.22257861 0.23682151\n",
            " 0.23368081 0.22867862 0.24449186 0.26315463 0.24160891 0.23706493\n",
            " 0.23975695 0.24729366 0.24821009 0.2493079  0.26304962 0.26824751\n",
            " 0.27975065 0.28229948 0.29226092 0.32092808 0.35146629 0.31861313\n",
            " 0.33687019 0.33924242 0.33475094 0.32575844 0.33453615 0.33735227\n",
            " 0.33474617 0.33553373 0.35183859 0.35293163 0.34389618 0.3301831\n",
            " 0.31018386 0.33227371 0.34801535 0.33937606 0.33713271 0.30769989\n",
            " 0.29756686 0.28066978 0.26216373 0.24439077 0.22840165 0.21472566\n",
            " 0.20358062 0.1949252  0.18850881 0.18393998 0.18075815 0.17849667\n",
            " 0.17673154 0.17511293 0.17338271 0.17137815 0.16902506 0.16632414\n",
            " 0.16333191 0.16014053 0.1568585  0.15359396 0.15044208 0.14747699\n",
            " 0.14474781 0.14227864 0.14007114 0.13810901 0.13636343 0.13479844\n",
            " 0.13337587 0.13205934 0.13081709 0.12962383]\n",
            "5 day output [[0.12846129]]\n",
            "6 day input [0.13375623 0.13236249 0.14052924 0.13664395 0.13249613 0.12729347\n",
            " 0.13052485 0.1279617  0.12640567 0.12620998 0.14220937 0.16370258\n",
            " 0.16973099 0.16512019 0.18050862 0.19651278 0.20540027 0.21101342\n",
            " 0.2023455  0.21053611 0.20292781 0.21465051 0.21735208 0.23774271\n",
            " 0.24161846 0.21994864 0.23073105 0.22257861 0.23682151 0.23368081\n",
            " 0.22867862 0.24449186 0.26315463 0.24160891 0.23706493 0.23975695\n",
            " 0.24729366 0.24821009 0.2493079  0.26304962 0.26824751 0.27975065\n",
            " 0.28229948 0.29226092 0.32092808 0.35146629 0.31861313 0.33687019\n",
            " 0.33924242 0.33475094 0.32575844 0.33453615 0.33735227 0.33474617\n",
            " 0.33553373 0.35183859 0.35293163 0.34389618 0.3301831  0.31018386\n",
            " 0.33227371 0.34801535 0.33937606 0.33713271 0.30769989 0.29756686\n",
            " 0.28066978 0.26216373 0.24439077 0.22840165 0.21472566 0.20358062\n",
            " 0.1949252  0.18850881 0.18393998 0.18075815 0.17849667 0.17673154\n",
            " 0.17511293 0.17338271 0.17137815 0.16902506 0.16632414 0.16333191\n",
            " 0.16014053 0.1568585  0.15359396 0.15044208 0.14747699 0.14474781\n",
            " 0.14227864 0.14007114 0.13810901 0.13636343 0.13479844 0.13337587\n",
            " 0.13205934 0.13081709 0.12962383 0.12846129]\n",
            "6 day output [[0.12731813]]\n",
            "7 day input [0.13236249 0.14052924 0.13664395 0.13249613 0.12729347 0.13052485\n",
            " 0.1279617  0.12640567 0.12620998 0.14220937 0.16370258 0.16973099\n",
            " 0.16512019 0.18050862 0.19651278 0.20540027 0.21101342 0.2023455\n",
            " 0.21053611 0.20292781 0.21465051 0.21735208 0.23774271 0.24161846\n",
            " 0.21994864 0.23073105 0.22257861 0.23682151 0.23368081 0.22867862\n",
            " 0.24449186 0.26315463 0.24160891 0.23706493 0.23975695 0.24729366\n",
            " 0.24821009 0.2493079  0.26304962 0.26824751 0.27975065 0.28229948\n",
            " 0.29226092 0.32092808 0.35146629 0.31861313 0.33687019 0.33924242\n",
            " 0.33475094 0.32575844 0.33453615 0.33735227 0.33474617 0.33553373\n",
            " 0.35183859 0.35293163 0.34389618 0.3301831  0.31018386 0.33227371\n",
            " 0.34801535 0.33937606 0.33713271 0.30769989 0.29756686 0.28066978\n",
            " 0.26216373 0.24439077 0.22840165 0.21472566 0.20358062 0.1949252\n",
            " 0.18850881 0.18393998 0.18075815 0.17849667 0.17673154 0.17511293\n",
            " 0.17338271 0.17137815 0.16902506 0.16632414 0.16333191 0.16014053\n",
            " 0.1568585  0.15359396 0.15044208 0.14747699 0.14474781 0.14227864\n",
            " 0.14007114 0.13810901 0.13636343 0.13479844 0.13337587 0.13205934\n",
            " 0.13081709 0.12962383 0.12846129 0.12731813]\n",
            "7 day output [[0.12618907]]\n",
            "8 day input [0.14052924 0.13664395 0.13249613 0.12729347 0.13052485 0.1279617\n",
            " 0.12640567 0.12620998 0.14220937 0.16370258 0.16973099 0.16512019\n",
            " 0.18050862 0.19651278 0.20540027 0.21101342 0.2023455  0.21053611\n",
            " 0.20292781 0.21465051 0.21735208 0.23774271 0.24161846 0.21994864\n",
            " 0.23073105 0.22257861 0.23682151 0.23368081 0.22867862 0.24449186\n",
            " 0.26315463 0.24160891 0.23706493 0.23975695 0.24729366 0.24821009\n",
            " 0.2493079  0.26304962 0.26824751 0.27975065 0.28229948 0.29226092\n",
            " 0.32092808 0.35146629 0.31861313 0.33687019 0.33924242 0.33475094\n",
            " 0.32575844 0.33453615 0.33735227 0.33474617 0.33553373 0.35183859\n",
            " 0.35293163 0.34389618 0.3301831  0.31018386 0.33227371 0.34801535\n",
            " 0.33937606 0.33713271 0.30769989 0.29756686 0.28066978 0.26216373\n",
            " 0.24439077 0.22840165 0.21472566 0.20358062 0.1949252  0.18850881\n",
            " 0.18393998 0.18075815 0.17849667 0.17673154 0.17511293 0.17338271\n",
            " 0.17137815 0.16902506 0.16632414 0.16333191 0.16014053 0.1568585\n",
            " 0.15359396 0.15044208 0.14747699 0.14474781 0.14227864 0.14007114\n",
            " 0.13810901 0.13636343 0.13479844 0.13337587 0.13205934 0.13081709\n",
            " 0.12962383 0.12846129 0.12731813 0.12618907]\n",
            "8 day output [[0.12507358]]\n",
            "9 day input [0.13664395 0.13249613 0.12729347 0.13052485 0.1279617  0.12640567\n",
            " 0.12620998 0.14220937 0.16370258 0.16973099 0.16512019 0.18050862\n",
            " 0.19651278 0.20540027 0.21101342 0.2023455  0.21053611 0.20292781\n",
            " 0.21465051 0.21735208 0.23774271 0.24161846 0.21994864 0.23073105\n",
            " 0.22257861 0.23682151 0.23368081 0.22867862 0.24449186 0.26315463\n",
            " 0.24160891 0.23706493 0.23975695 0.24729366 0.24821009 0.2493079\n",
            " 0.26304962 0.26824751 0.27975065 0.28229948 0.29226092 0.32092808\n",
            " 0.35146629 0.31861313 0.33687019 0.33924242 0.33475094 0.32575844\n",
            " 0.33453615 0.33735227 0.33474617 0.33553373 0.35183859 0.35293163\n",
            " 0.34389618 0.3301831  0.31018386 0.33227371 0.34801535 0.33937606\n",
            " 0.33713271 0.30769989 0.29756686 0.28066978 0.26216373 0.24439077\n",
            " 0.22840165 0.21472566 0.20358062 0.1949252  0.18850881 0.18393998\n",
            " 0.18075815 0.17849667 0.17673154 0.17511293 0.17338271 0.17137815\n",
            " 0.16902506 0.16632414 0.16333191 0.16014053 0.1568585  0.15359396\n",
            " 0.15044208 0.14747699 0.14474781 0.14227864 0.14007114 0.13810901\n",
            " 0.13636343 0.13479844 0.13337587 0.13205934 0.13081709 0.12962383\n",
            " 0.12846129 0.12731813 0.12618907 0.12507358]\n",
            "9 day output [[0.12397462]]\n",
            "10 day input [0.13249613 0.12729347 0.13052485 0.1279617  0.12640567 0.12620998\n",
            " 0.14220937 0.16370258 0.16973099 0.16512019 0.18050862 0.19651278\n",
            " 0.20540027 0.21101342 0.2023455  0.21053611 0.20292781 0.21465051\n",
            " 0.21735208 0.23774271 0.24161846 0.21994864 0.23073105 0.22257861\n",
            " 0.23682151 0.23368081 0.22867862 0.24449186 0.26315463 0.24160891\n",
            " 0.23706493 0.23975695 0.24729366 0.24821009 0.2493079  0.26304962\n",
            " 0.26824751 0.27975065 0.28229948 0.29226092 0.32092808 0.35146629\n",
            " 0.31861313 0.33687019 0.33924242 0.33475094 0.32575844 0.33453615\n",
            " 0.33735227 0.33474617 0.33553373 0.35183859 0.35293163 0.34389618\n",
            " 0.3301831  0.31018386 0.33227371 0.34801535 0.33937606 0.33713271\n",
            " 0.30769989 0.29756686 0.28066978 0.26216373 0.24439077 0.22840165\n",
            " 0.21472566 0.20358062 0.1949252  0.18850881 0.18393998 0.18075815\n",
            " 0.17849667 0.17673154 0.17511293 0.17338271 0.17137815 0.16902506\n",
            " 0.16632414 0.16333191 0.16014053 0.1568585  0.15359396 0.15044208\n",
            " 0.14747699 0.14474781 0.14227864 0.14007114 0.13810901 0.13636343\n",
            " 0.13479844 0.13337587 0.13205934 0.13081709 0.12962383 0.12846129\n",
            " 0.12731813 0.12618907 0.12507358 0.12397462]\n",
            "10 day output [[0.12289704]]\n",
            "11 day input [0.12729347 0.13052485 0.1279617  0.12640567 0.12620998 0.14220937\n",
            " 0.16370258 0.16973099 0.16512019 0.18050862 0.19651278 0.20540027\n",
            " 0.21101342 0.2023455  0.21053611 0.20292781 0.21465051 0.21735208\n",
            " 0.23774271 0.24161846 0.21994864 0.23073105 0.22257861 0.23682151\n",
            " 0.23368081 0.22867862 0.24449186 0.26315463 0.24160891 0.23706493\n",
            " 0.23975695 0.24729366 0.24821009 0.2493079  0.26304962 0.26824751\n",
            " 0.27975065 0.28229948 0.29226092 0.32092808 0.35146629 0.31861313\n",
            " 0.33687019 0.33924242 0.33475094 0.32575844 0.33453615 0.33735227\n",
            " 0.33474617 0.33553373 0.35183859 0.35293163 0.34389618 0.3301831\n",
            " 0.31018386 0.33227371 0.34801535 0.33937606 0.33713271 0.30769989\n",
            " 0.29756686 0.28066978 0.26216373 0.24439077 0.22840165 0.21472566\n",
            " 0.20358062 0.1949252  0.18850881 0.18393998 0.18075815 0.17849667\n",
            " 0.17673154 0.17511293 0.17338271 0.17137815 0.16902506 0.16632414\n",
            " 0.16333191 0.16014053 0.1568585  0.15359396 0.15044208 0.14747699\n",
            " 0.14474781 0.14227864 0.14007114 0.13810901 0.13636343 0.13479844\n",
            " 0.13337587 0.13205934 0.13081709 0.12962383 0.12846129 0.12731813\n",
            " 0.12618907 0.12507358 0.12397462 0.12289704]\n",
            "11 day output [[0.1218465]]\n",
            "12 day input [0.13052485 0.1279617  0.12640567 0.12620998 0.14220937 0.16370258\n",
            " 0.16973099 0.16512019 0.18050862 0.19651278 0.20540027 0.21101342\n",
            " 0.2023455  0.21053611 0.20292781 0.21465051 0.21735208 0.23774271\n",
            " 0.24161846 0.21994864 0.23073105 0.22257861 0.23682151 0.23368081\n",
            " 0.22867862 0.24449186 0.26315463 0.24160891 0.23706493 0.23975695\n",
            " 0.24729366 0.24821009 0.2493079  0.26304962 0.26824751 0.27975065\n",
            " 0.28229948 0.29226092 0.32092808 0.35146629 0.31861313 0.33687019\n",
            " 0.33924242 0.33475094 0.32575844 0.33453615 0.33735227 0.33474617\n",
            " 0.33553373 0.35183859 0.35293163 0.34389618 0.3301831  0.31018386\n",
            " 0.33227371 0.34801535 0.33937606 0.33713271 0.30769989 0.29756686\n",
            " 0.28066978 0.26216373 0.24439077 0.22840165 0.21472566 0.20358062\n",
            " 0.1949252  0.18850881 0.18393998 0.18075815 0.17849667 0.17673154\n",
            " 0.17511293 0.17338271 0.17137815 0.16902506 0.16632414 0.16333191\n",
            " 0.16014053 0.1568585  0.15359396 0.15044208 0.14747699 0.14474781\n",
            " 0.14227864 0.14007114 0.13810901 0.13636343 0.13479844 0.13337587\n",
            " 0.13205934 0.13081709 0.12962383 0.12846129 0.12731813 0.12618907\n",
            " 0.12507358 0.12397462 0.12289704 0.1218465 ]\n",
            "12 day output [[0.1208284]]\n",
            "13 day input [0.1279617  0.12640567 0.12620998 0.14220937 0.16370258 0.16973099\n",
            " 0.16512019 0.18050862 0.19651278 0.20540027 0.21101342 0.2023455\n",
            " 0.21053611 0.20292781 0.21465051 0.21735208 0.23774271 0.24161846\n",
            " 0.21994864 0.23073105 0.22257861 0.23682151 0.23368081 0.22867862\n",
            " 0.24449186 0.26315463 0.24160891 0.23706493 0.23975695 0.24729366\n",
            " 0.24821009 0.2493079  0.26304962 0.26824751 0.27975065 0.28229948\n",
            " 0.29226092 0.32092808 0.35146629 0.31861313 0.33687019 0.33924242\n",
            " 0.33475094 0.32575844 0.33453615 0.33735227 0.33474617 0.33553373\n",
            " 0.35183859 0.35293163 0.34389618 0.3301831  0.31018386 0.33227371\n",
            " 0.34801535 0.33937606 0.33713271 0.30769989 0.29756686 0.28066978\n",
            " 0.26216373 0.24439077 0.22840165 0.21472566 0.20358062 0.1949252\n",
            " 0.18850881 0.18393998 0.18075815 0.17849667 0.17673154 0.17511293\n",
            " 0.17338271 0.17137815 0.16902506 0.16632414 0.16333191 0.16014053\n",
            " 0.1568585  0.15359396 0.15044208 0.14747699 0.14474781 0.14227864\n",
            " 0.14007114 0.13810901 0.13636343 0.13479844 0.13337587 0.13205934\n",
            " 0.13081709 0.12962383 0.12846129 0.12731813 0.12618907 0.12507358\n",
            " 0.12397462 0.12289704 0.1218465  0.1208284 ]\n",
            "13 day output [[0.11984713]]\n",
            "14 day input [0.12640567 0.12620998 0.14220937 0.16370258 0.16973099 0.16512019\n",
            " 0.18050862 0.19651278 0.20540027 0.21101342 0.2023455  0.21053611\n",
            " 0.20292781 0.21465051 0.21735208 0.23774271 0.24161846 0.21994864\n",
            " 0.23073105 0.22257861 0.23682151 0.23368081 0.22867862 0.24449186\n",
            " 0.26315463 0.24160891 0.23706493 0.23975695 0.24729366 0.24821009\n",
            " 0.2493079  0.26304962 0.26824751 0.27975065 0.28229948 0.29226092\n",
            " 0.32092808 0.35146629 0.31861313 0.33687019 0.33924242 0.33475094\n",
            " 0.32575844 0.33453615 0.33735227 0.33474617 0.33553373 0.35183859\n",
            " 0.35293163 0.34389618 0.3301831  0.31018386 0.33227371 0.34801535\n",
            " 0.33937606 0.33713271 0.30769989 0.29756686 0.28066978 0.26216373\n",
            " 0.24439077 0.22840165 0.21472566 0.20358062 0.1949252  0.18850881\n",
            " 0.18393998 0.18075815 0.17849667 0.17673154 0.17511293 0.17338271\n",
            " 0.17137815 0.16902506 0.16632414 0.16333191 0.16014053 0.1568585\n",
            " 0.15359396 0.15044208 0.14747699 0.14474781 0.14227864 0.14007114\n",
            " 0.13810901 0.13636343 0.13479844 0.13337587 0.13205934 0.13081709\n",
            " 0.12962383 0.12846129 0.12731813 0.12618907 0.12507358 0.12397462\n",
            " 0.12289704 0.1218465  0.1208284  0.11984713]\n",
            "14 day output [[0.11890567]]\n",
            "15 day input [0.12620998 0.14220937 0.16370258 0.16973099 0.16512019 0.18050862\n",
            " 0.19651278 0.20540027 0.21101342 0.2023455  0.21053611 0.20292781\n",
            " 0.21465051 0.21735208 0.23774271 0.24161846 0.21994864 0.23073105\n",
            " 0.22257861 0.23682151 0.23368081 0.22867862 0.24449186 0.26315463\n",
            " 0.24160891 0.23706493 0.23975695 0.24729366 0.24821009 0.2493079\n",
            " 0.26304962 0.26824751 0.27975065 0.28229948 0.29226092 0.32092808\n",
            " 0.35146629 0.31861313 0.33687019 0.33924242 0.33475094 0.32575844\n",
            " 0.33453615 0.33735227 0.33474617 0.33553373 0.35183859 0.35293163\n",
            " 0.34389618 0.3301831  0.31018386 0.33227371 0.34801535 0.33937606\n",
            " 0.33713271 0.30769989 0.29756686 0.28066978 0.26216373 0.24439077\n",
            " 0.22840165 0.21472566 0.20358062 0.1949252  0.18850881 0.18393998\n",
            " 0.18075815 0.17849667 0.17673154 0.17511293 0.17338271 0.17137815\n",
            " 0.16902506 0.16632414 0.16333191 0.16014053 0.1568585  0.15359396\n",
            " 0.15044208 0.14747699 0.14474781 0.14227864 0.14007114 0.13810901\n",
            " 0.13636343 0.13479844 0.13337587 0.13205934 0.13081709 0.12962383\n",
            " 0.12846129 0.12731813 0.12618907 0.12507358 0.12397462 0.12289704\n",
            " 0.1218465  0.1208284  0.11984713 0.11890567]\n",
            "15 day output [[0.11800545]]\n",
            "16 day input [0.14220937 0.16370258 0.16973099 0.16512019 0.18050862 0.19651278\n",
            " 0.20540027 0.21101342 0.2023455  0.21053611 0.20292781 0.21465051\n",
            " 0.21735208 0.23774271 0.24161846 0.21994864 0.23073105 0.22257861\n",
            " 0.23682151 0.23368081 0.22867862 0.24449186 0.26315463 0.24160891\n",
            " 0.23706493 0.23975695 0.24729366 0.24821009 0.2493079  0.26304962\n",
            " 0.26824751 0.27975065 0.28229948 0.29226092 0.32092808 0.35146629\n",
            " 0.31861313 0.33687019 0.33924242 0.33475094 0.32575844 0.33453615\n",
            " 0.33735227 0.33474617 0.33553373 0.35183859 0.35293163 0.34389618\n",
            " 0.3301831  0.31018386 0.33227371 0.34801535 0.33937606 0.33713271\n",
            " 0.30769989 0.29756686 0.28066978 0.26216373 0.24439077 0.22840165\n",
            " 0.21472566 0.20358062 0.1949252  0.18850881 0.18393998 0.18075815\n",
            " 0.17849667 0.17673154 0.17511293 0.17338271 0.17137815 0.16902506\n",
            " 0.16632414 0.16333191 0.16014053 0.1568585  0.15359396 0.15044208\n",
            " 0.14747699 0.14474781 0.14227864 0.14007114 0.13810901 0.13636343\n",
            " 0.13479844 0.13337587 0.13205934 0.13081709 0.12962383 0.12846129\n",
            " 0.12731813 0.12618907 0.12507358 0.12397462 0.12289704 0.1218465\n",
            " 0.1208284  0.11984713 0.11890567 0.11800545]\n",
            "16 day output [[0.11714648]]\n",
            "17 day input [0.16370258 0.16973099 0.16512019 0.18050862 0.19651278 0.20540027\n",
            " 0.21101342 0.2023455  0.21053611 0.20292781 0.21465051 0.21735208\n",
            " 0.23774271 0.24161846 0.21994864 0.23073105 0.22257861 0.23682151\n",
            " 0.23368081 0.22867862 0.24449186 0.26315463 0.24160891 0.23706493\n",
            " 0.23975695 0.24729366 0.24821009 0.2493079  0.26304962 0.26824751\n",
            " 0.27975065 0.28229948 0.29226092 0.32092808 0.35146629 0.31861313\n",
            " 0.33687019 0.33924242 0.33475094 0.32575844 0.33453615 0.33735227\n",
            " 0.33474617 0.33553373 0.35183859 0.35293163 0.34389618 0.3301831\n",
            " 0.31018386 0.33227371 0.34801535 0.33937606 0.33713271 0.30769989\n",
            " 0.29756686 0.28066978 0.26216373 0.24439077 0.22840165 0.21472566\n",
            " 0.20358062 0.1949252  0.18850881 0.18393998 0.18075815 0.17849667\n",
            " 0.17673154 0.17511293 0.17338271 0.17137815 0.16902506 0.16632414\n",
            " 0.16333191 0.16014053 0.1568585  0.15359396 0.15044208 0.14747699\n",
            " 0.14474781 0.14227864 0.14007114 0.13810901 0.13636343 0.13479844\n",
            " 0.13337587 0.13205934 0.13081709 0.12962383 0.12846129 0.12731813\n",
            " 0.12618907 0.12507358 0.12397462 0.12289704 0.1218465  0.1208284\n",
            " 0.11984713 0.11890567 0.11800545 0.11714648]\n",
            "17 day output [[0.11632732]]\n",
            "18 day input [0.16973099 0.16512019 0.18050862 0.19651278 0.20540027 0.21101342\n",
            " 0.2023455  0.21053611 0.20292781 0.21465051 0.21735208 0.23774271\n",
            " 0.24161846 0.21994864 0.23073105 0.22257861 0.23682151 0.23368081\n",
            " 0.22867862 0.24449186 0.26315463 0.24160891 0.23706493 0.23975695\n",
            " 0.24729366 0.24821009 0.2493079  0.26304962 0.26824751 0.27975065\n",
            " 0.28229948 0.29226092 0.32092808 0.35146629 0.31861313 0.33687019\n",
            " 0.33924242 0.33475094 0.32575844 0.33453615 0.33735227 0.33474617\n",
            " 0.33553373 0.35183859 0.35293163 0.34389618 0.3301831  0.31018386\n",
            " 0.33227371 0.34801535 0.33937606 0.33713271 0.30769989 0.29756686\n",
            " 0.28066978 0.26216373 0.24439077 0.22840165 0.21472566 0.20358062\n",
            " 0.1949252  0.18850881 0.18393998 0.18075815 0.17849667 0.17673154\n",
            " 0.17511293 0.17338271 0.17137815 0.16902506 0.16632414 0.16333191\n",
            " 0.16014053 0.1568585  0.15359396 0.15044208 0.14747699 0.14474781\n",
            " 0.14227864 0.14007114 0.13810901 0.13636343 0.13479844 0.13337587\n",
            " 0.13205934 0.13081709 0.12962383 0.12846129 0.12731813 0.12618907\n",
            " 0.12507358 0.12397462 0.12289704 0.1218465  0.1208284  0.11984713\n",
            " 0.11890567 0.11800545 0.11714648 0.11632732]\n",
            "18 day output [[0.11554566]]\n",
            "19 day input [0.16512019 0.18050862 0.19651278 0.20540027 0.21101342 0.2023455\n",
            " 0.21053611 0.20292781 0.21465051 0.21735208 0.23774271 0.24161846\n",
            " 0.21994864 0.23073105 0.22257861 0.23682151 0.23368081 0.22867862\n",
            " 0.24449186 0.26315463 0.24160891 0.23706493 0.23975695 0.24729366\n",
            " 0.24821009 0.2493079  0.26304962 0.26824751 0.27975065 0.28229948\n",
            " 0.29226092 0.32092808 0.35146629 0.31861313 0.33687019 0.33924242\n",
            " 0.33475094 0.32575844 0.33453615 0.33735227 0.33474617 0.33553373\n",
            " 0.35183859 0.35293163 0.34389618 0.3301831  0.31018386 0.33227371\n",
            " 0.34801535 0.33937606 0.33713271 0.30769989 0.29756686 0.28066978\n",
            " 0.26216373 0.24439077 0.22840165 0.21472566 0.20358062 0.1949252\n",
            " 0.18850881 0.18393998 0.18075815 0.17849667 0.17673154 0.17511293\n",
            " 0.17338271 0.17137815 0.16902506 0.16632414 0.16333191 0.16014053\n",
            " 0.1568585  0.15359396 0.15044208 0.14747699 0.14474781 0.14227864\n",
            " 0.14007114 0.13810901 0.13636343 0.13479844 0.13337587 0.13205934\n",
            " 0.13081709 0.12962383 0.12846129 0.12731813 0.12618907 0.12507358\n",
            " 0.12397462 0.12289704 0.1218465  0.1208284  0.11984713 0.11890567\n",
            " 0.11800545 0.11714648 0.11632732 0.11554566]\n",
            "19 day output [[0.11479849]]\n",
            "20 day input [0.18050862 0.19651278 0.20540027 0.21101342 0.2023455  0.21053611\n",
            " 0.20292781 0.21465051 0.21735208 0.23774271 0.24161846 0.21994864\n",
            " 0.23073105 0.22257861 0.23682151 0.23368081 0.22867862 0.24449186\n",
            " 0.26315463 0.24160891 0.23706493 0.23975695 0.24729366 0.24821009\n",
            " 0.2493079  0.26304962 0.26824751 0.27975065 0.28229948 0.29226092\n",
            " 0.32092808 0.35146629 0.31861313 0.33687019 0.33924242 0.33475094\n",
            " 0.32575844 0.33453615 0.33735227 0.33474617 0.33553373 0.35183859\n",
            " 0.35293163 0.34389618 0.3301831  0.31018386 0.33227371 0.34801535\n",
            " 0.33937606 0.33713271 0.30769989 0.29756686 0.28066978 0.26216373\n",
            " 0.24439077 0.22840165 0.21472566 0.20358062 0.1949252  0.18850881\n",
            " 0.18393998 0.18075815 0.17849667 0.17673154 0.17511293 0.17338271\n",
            " 0.17137815 0.16902506 0.16632414 0.16333191 0.16014053 0.1568585\n",
            " 0.15359396 0.15044208 0.14747699 0.14474781 0.14227864 0.14007114\n",
            " 0.13810901 0.13636343 0.13479844 0.13337587 0.13205934 0.13081709\n",
            " 0.12962383 0.12846129 0.12731813 0.12618907 0.12507358 0.12397462\n",
            " 0.12289704 0.1218465  0.1208284  0.11984713 0.11890567 0.11800545\n",
            " 0.11714648 0.11632732 0.11554566 0.11479849]\n",
            "20 day output [[0.11408255]]\n",
            "21 day input [0.19651278 0.20540027 0.21101342 0.2023455  0.21053611 0.20292781\n",
            " 0.21465051 0.21735208 0.23774271 0.24161846 0.21994864 0.23073105\n",
            " 0.22257861 0.23682151 0.23368081 0.22867862 0.24449186 0.26315463\n",
            " 0.24160891 0.23706493 0.23975695 0.24729366 0.24821009 0.2493079\n",
            " 0.26304962 0.26824751 0.27975065 0.28229948 0.29226092 0.32092808\n",
            " 0.35146629 0.31861313 0.33687019 0.33924242 0.33475094 0.32575844\n",
            " 0.33453615 0.33735227 0.33474617 0.33553373 0.35183859 0.35293163\n",
            " 0.34389618 0.3301831  0.31018386 0.33227371 0.34801535 0.33937606\n",
            " 0.33713271 0.30769989 0.29756686 0.28066978 0.26216373 0.24439077\n",
            " 0.22840165 0.21472566 0.20358062 0.1949252  0.18850881 0.18393998\n",
            " 0.18075815 0.17849667 0.17673154 0.17511293 0.17338271 0.17137815\n",
            " 0.16902506 0.16632414 0.16333191 0.16014053 0.1568585  0.15359396\n",
            " 0.15044208 0.14747699 0.14474781 0.14227864 0.14007114 0.13810901\n",
            " 0.13636343 0.13479844 0.13337587 0.13205934 0.13081709 0.12962383\n",
            " 0.12846129 0.12731813 0.12618907 0.12507358 0.12397462 0.12289704\n",
            " 0.1218465  0.1208284  0.11984713 0.11890567 0.11800545 0.11714648\n",
            " 0.11632732 0.11554566 0.11479849 0.11408255]\n",
            "21 day output [[0.11339452]]\n",
            "22 day input [0.20540027 0.21101342 0.2023455  0.21053611 0.20292781 0.21465051\n",
            " 0.21735208 0.23774271 0.24161846 0.21994864 0.23073105 0.22257861\n",
            " 0.23682151 0.23368081 0.22867862 0.24449186 0.26315463 0.24160891\n",
            " 0.23706493 0.23975695 0.24729366 0.24821009 0.2493079  0.26304962\n",
            " 0.26824751 0.27975065 0.28229948 0.29226092 0.32092808 0.35146629\n",
            " 0.31861313 0.33687019 0.33924242 0.33475094 0.32575844 0.33453615\n",
            " 0.33735227 0.33474617 0.33553373 0.35183859 0.35293163 0.34389618\n",
            " 0.3301831  0.31018386 0.33227371 0.34801535 0.33937606 0.33713271\n",
            " 0.30769989 0.29756686 0.28066978 0.26216373 0.24439077 0.22840165\n",
            " 0.21472566 0.20358062 0.1949252  0.18850881 0.18393998 0.18075815\n",
            " 0.17849667 0.17673154 0.17511293 0.17338271 0.17137815 0.16902506\n",
            " 0.16632414 0.16333191 0.16014053 0.1568585  0.15359396 0.15044208\n",
            " 0.14747699 0.14474781 0.14227864 0.14007114 0.13810901 0.13636343\n",
            " 0.13479844 0.13337587 0.13205934 0.13081709 0.12962383 0.12846129\n",
            " 0.12731813 0.12618907 0.12507358 0.12397462 0.12289704 0.1218465\n",
            " 0.1208284  0.11984713 0.11890567 0.11800545 0.11714648 0.11632732\n",
            " 0.11554566 0.11479849 0.11408255 0.11339452]\n",
            "22 day output [[0.11273134]]\n",
            "23 day input [0.21101342 0.2023455  0.21053611 0.20292781 0.21465051 0.21735208\n",
            " 0.23774271 0.24161846 0.21994864 0.23073105 0.22257861 0.23682151\n",
            " 0.23368081 0.22867862 0.24449186 0.26315463 0.24160891 0.23706493\n",
            " 0.23975695 0.24729366 0.24821009 0.2493079  0.26304962 0.26824751\n",
            " 0.27975065 0.28229948 0.29226092 0.32092808 0.35146629 0.31861313\n",
            " 0.33687019 0.33924242 0.33475094 0.32575844 0.33453615 0.33735227\n",
            " 0.33474617 0.33553373 0.35183859 0.35293163 0.34389618 0.3301831\n",
            " 0.31018386 0.33227371 0.34801535 0.33937606 0.33713271 0.30769989\n",
            " 0.29756686 0.28066978 0.26216373 0.24439077 0.22840165 0.21472566\n",
            " 0.20358062 0.1949252  0.18850881 0.18393998 0.18075815 0.17849667\n",
            " 0.17673154 0.17511293 0.17338271 0.17137815 0.16902506 0.16632414\n",
            " 0.16333191 0.16014053 0.1568585  0.15359396 0.15044208 0.14747699\n",
            " 0.14474781 0.14227864 0.14007114 0.13810901 0.13636343 0.13479844\n",
            " 0.13337587 0.13205934 0.13081709 0.12962383 0.12846129 0.12731813\n",
            " 0.12618907 0.12507358 0.12397462 0.12289704 0.1218465  0.1208284\n",
            " 0.11984713 0.11890567 0.11800545 0.11714648 0.11632732 0.11554566\n",
            " 0.11479849 0.11408255 0.11339452 0.11273134]\n",
            "23 day output [[0.11209027]]\n",
            "24 day input [0.2023455  0.21053611 0.20292781 0.21465051 0.21735208 0.23774271\n",
            " 0.24161846 0.21994864 0.23073105 0.22257861 0.23682151 0.23368081\n",
            " 0.22867862 0.24449186 0.26315463 0.24160891 0.23706493 0.23975695\n",
            " 0.24729366 0.24821009 0.2493079  0.26304962 0.26824751 0.27975065\n",
            " 0.28229948 0.29226092 0.32092808 0.35146629 0.31861313 0.33687019\n",
            " 0.33924242 0.33475094 0.32575844 0.33453615 0.33735227 0.33474617\n",
            " 0.33553373 0.35183859 0.35293163 0.34389618 0.3301831  0.31018386\n",
            " 0.33227371 0.34801535 0.33937606 0.33713271 0.30769989 0.29756686\n",
            " 0.28066978 0.26216373 0.24439077 0.22840165 0.21472566 0.20358062\n",
            " 0.1949252  0.18850881 0.18393998 0.18075815 0.17849667 0.17673154\n",
            " 0.17511293 0.17338271 0.17137815 0.16902506 0.16632414 0.16333191\n",
            " 0.16014053 0.1568585  0.15359396 0.15044208 0.14747699 0.14474781\n",
            " 0.14227864 0.14007114 0.13810901 0.13636343 0.13479844 0.13337587\n",
            " 0.13205934 0.13081709 0.12962383 0.12846129 0.12731813 0.12618907\n",
            " 0.12507358 0.12397462 0.12289704 0.1218465  0.1208284  0.11984713\n",
            " 0.11890567 0.11800545 0.11714648 0.11632732 0.11554566 0.11479849\n",
            " 0.11408255 0.11339452 0.11273134 0.11209027]\n",
            "24 day output [[0.11146912]]\n",
            "25 day input [0.21053611 0.20292781 0.21465051 0.21735208 0.23774271 0.24161846\n",
            " 0.21994864 0.23073105 0.22257861 0.23682151 0.23368081 0.22867862\n",
            " 0.24449186 0.26315463 0.24160891 0.23706493 0.23975695 0.24729366\n",
            " 0.24821009 0.2493079  0.26304962 0.26824751 0.27975065 0.28229948\n",
            " 0.29226092 0.32092808 0.35146629 0.31861313 0.33687019 0.33924242\n",
            " 0.33475094 0.32575844 0.33453615 0.33735227 0.33474617 0.33553373\n",
            " 0.35183859 0.35293163 0.34389618 0.3301831  0.31018386 0.33227371\n",
            " 0.34801535 0.33937606 0.33713271 0.30769989 0.29756686 0.28066978\n",
            " 0.26216373 0.24439077 0.22840165 0.21472566 0.20358062 0.1949252\n",
            " 0.18850881 0.18393998 0.18075815 0.17849667 0.17673154 0.17511293\n",
            " 0.17338271 0.17137815 0.16902506 0.16632414 0.16333191 0.16014053\n",
            " 0.1568585  0.15359396 0.15044208 0.14747699 0.14474781 0.14227864\n",
            " 0.14007114 0.13810901 0.13636343 0.13479844 0.13337587 0.13205934\n",
            " 0.13081709 0.12962383 0.12846129 0.12731813 0.12618907 0.12507358\n",
            " 0.12397462 0.12289704 0.1218465  0.1208284  0.11984713 0.11890567\n",
            " 0.11800545 0.11714648 0.11632732 0.11554566 0.11479849 0.11408255\n",
            " 0.11339452 0.11273134 0.11209027 0.11146912]\n",
            "25 day output [[0.11086607]]\n",
            "26 day input [0.20292781 0.21465051 0.21735208 0.23774271 0.24161846 0.21994864\n",
            " 0.23073105 0.22257861 0.23682151 0.23368081 0.22867862 0.24449186\n",
            " 0.26315463 0.24160891 0.23706493 0.23975695 0.24729366 0.24821009\n",
            " 0.2493079  0.26304962 0.26824751 0.27975065 0.28229948 0.29226092\n",
            " 0.32092808 0.35146629 0.31861313 0.33687019 0.33924242 0.33475094\n",
            " 0.32575844 0.33453615 0.33735227 0.33474617 0.33553373 0.35183859\n",
            " 0.35293163 0.34389618 0.3301831  0.31018386 0.33227371 0.34801535\n",
            " 0.33937606 0.33713271 0.30769989 0.29756686 0.28066978 0.26216373\n",
            " 0.24439077 0.22840165 0.21472566 0.20358062 0.1949252  0.18850881\n",
            " 0.18393998 0.18075815 0.17849667 0.17673154 0.17511293 0.17338271\n",
            " 0.17137815 0.16902506 0.16632414 0.16333191 0.16014053 0.1568585\n",
            " 0.15359396 0.15044208 0.14747699 0.14474781 0.14227864 0.14007114\n",
            " 0.13810901 0.13636343 0.13479844 0.13337587 0.13205934 0.13081709\n",
            " 0.12962383 0.12846129 0.12731813 0.12618907 0.12507358 0.12397462\n",
            " 0.12289704 0.1218465  0.1208284  0.11984713 0.11890567 0.11800545\n",
            " 0.11714648 0.11632732 0.11554566 0.11479849 0.11408255 0.11339452\n",
            " 0.11273134 0.11209027 0.11146912 0.11086607]\n",
            "26 day output [[0.1102799]]\n",
            "27 day input [0.21465051 0.21735208 0.23774271 0.24161846 0.21994864 0.23073105\n",
            " 0.22257861 0.23682151 0.23368081 0.22867862 0.24449186 0.26315463\n",
            " 0.24160891 0.23706493 0.23975695 0.24729366 0.24821009 0.2493079\n",
            " 0.26304962 0.26824751 0.27975065 0.28229948 0.29226092 0.32092808\n",
            " 0.35146629 0.31861313 0.33687019 0.33924242 0.33475094 0.32575844\n",
            " 0.33453615 0.33735227 0.33474617 0.33553373 0.35183859 0.35293163\n",
            " 0.34389618 0.3301831  0.31018386 0.33227371 0.34801535 0.33937606\n",
            " 0.33713271 0.30769989 0.29756686 0.28066978 0.26216373 0.24439077\n",
            " 0.22840165 0.21472566 0.20358062 0.1949252  0.18850881 0.18393998\n",
            " 0.18075815 0.17849667 0.17673154 0.17511293 0.17338271 0.17137815\n",
            " 0.16902506 0.16632414 0.16333191 0.16014053 0.1568585  0.15359396\n",
            " 0.15044208 0.14747699 0.14474781 0.14227864 0.14007114 0.13810901\n",
            " 0.13636343 0.13479844 0.13337587 0.13205934 0.13081709 0.12962383\n",
            " 0.12846129 0.12731813 0.12618907 0.12507358 0.12397462 0.12289704\n",
            " 0.1218465  0.1208284  0.11984713 0.11890567 0.11800545 0.11714648\n",
            " 0.11632732 0.11554566 0.11479849 0.11408255 0.11339452 0.11273134\n",
            " 0.11209027 0.11146912 0.11086607 0.1102799 ]\n",
            "27 day output [[0.10970967]]\n",
            "28 day input [0.21735208 0.23774271 0.24161846 0.21994864 0.23073105 0.22257861\n",
            " 0.23682151 0.23368081 0.22867862 0.24449186 0.26315463 0.24160891\n",
            " 0.23706493 0.23975695 0.24729366 0.24821009 0.2493079  0.26304962\n",
            " 0.26824751 0.27975065 0.28229948 0.29226092 0.32092808 0.35146629\n",
            " 0.31861313 0.33687019 0.33924242 0.33475094 0.32575844 0.33453615\n",
            " 0.33735227 0.33474617 0.33553373 0.35183859 0.35293163 0.34389618\n",
            " 0.3301831  0.31018386 0.33227371 0.34801535 0.33937606 0.33713271\n",
            " 0.30769989 0.29756686 0.28066978 0.26216373 0.24439077 0.22840165\n",
            " 0.21472566 0.20358062 0.1949252  0.18850881 0.18393998 0.18075815\n",
            " 0.17849667 0.17673154 0.17511293 0.17338271 0.17137815 0.16902506\n",
            " 0.16632414 0.16333191 0.16014053 0.1568585  0.15359396 0.15044208\n",
            " 0.14747699 0.14474781 0.14227864 0.14007114 0.13810901 0.13636343\n",
            " 0.13479844 0.13337587 0.13205934 0.13081709 0.12962383 0.12846129\n",
            " 0.12731813 0.12618907 0.12507358 0.12397462 0.12289704 0.1218465\n",
            " 0.1208284  0.11984713 0.11890567 0.11800545 0.11714648 0.11632732\n",
            " 0.11554566 0.11479849 0.11408255 0.11339452 0.11273134 0.11209027\n",
            " 0.11146912 0.11086607 0.1102799  0.10970967]\n",
            "28 day output [[0.10915485]]\n",
            "29 day input [0.23774271 0.24161846 0.21994864 0.23073105 0.22257861 0.23682151\n",
            " 0.23368081 0.22867862 0.24449186 0.26315463 0.24160891 0.23706493\n",
            " 0.23975695 0.24729366 0.24821009 0.2493079  0.26304962 0.26824751\n",
            " 0.27975065 0.28229948 0.29226092 0.32092808 0.35146629 0.31861313\n",
            " 0.33687019 0.33924242 0.33475094 0.32575844 0.33453615 0.33735227\n",
            " 0.33474617 0.33553373 0.35183859 0.35293163 0.34389618 0.3301831\n",
            " 0.31018386 0.33227371 0.34801535 0.33937606 0.33713271 0.30769989\n",
            " 0.29756686 0.28066978 0.26216373 0.24439077 0.22840165 0.21472566\n",
            " 0.20358062 0.1949252  0.18850881 0.18393998 0.18075815 0.17849667\n",
            " 0.17673154 0.17511293 0.17338271 0.17137815 0.16902506 0.16632414\n",
            " 0.16333191 0.16014053 0.1568585  0.15359396 0.15044208 0.14747699\n",
            " 0.14474781 0.14227864 0.14007114 0.13810901 0.13636343 0.13479844\n",
            " 0.13337587 0.13205934 0.13081709 0.12962383 0.12846129 0.12731813\n",
            " 0.12618907 0.12507358 0.12397462 0.12289704 0.1218465  0.1208284\n",
            " 0.11984713 0.11890567 0.11800545 0.11714648 0.11632732 0.11554566\n",
            " 0.11479849 0.11408255 0.11339452 0.11273134 0.11209027 0.11146912\n",
            " 0.11086607 0.1102799  0.10970967 0.10915485]\n",
            "29 day output [[0.10861506]]\n",
            "[[0.13479843735694885], [0.1333758682012558], [0.13205933570861816], [0.13081708550453186], [0.12962383031845093], [0.12846128642559052], [0.1273181289434433], [0.12618906795978546], [0.12507358193397522], [0.12397462129592896], [0.12289704382419586], [0.121846504509449], [0.12082839757204056], [0.1198471337556839], [0.11890567094087601], [0.11800545454025269], [0.11714647710323334], [0.11632732301950455], [0.11554566025733948], [0.11479848623275757], [0.11408255249261856], [0.11339452117681503], [0.11273133754730225], [0.11209027469158173], [0.11146911978721619], [0.11086606979370117], [0.11027989536523819], [0.10970967262983322], [0.1091548502445221], [0.10861506313085556]]\n"
          ],
          "name": "stdout"
        }
      ]
    },
    {
      "cell_type": "code",
      "metadata": {
        "id": "afuCPsgh7jUZ"
      },
      "source": [
        "day_new=np.arange(1,101)\r\n",
        "day_pred=np.arange(101,131)"
      ],
      "execution_count": 38,
      "outputs": []
    },
    {
      "cell_type": "code",
      "metadata": {
        "id": "1g3fRkbx7ocH"
      },
      "source": [
        "import matplotlib.pyplot as plt"
      ],
      "execution_count": 39,
      "outputs": []
    },
    {
      "cell_type": "code",
      "metadata": {
        "colab": {
          "base_uri": "https://localhost:8080/"
        },
        "id": "oEtHNe_O7sSk",
        "outputId": "c7cf8fca-91e2-4c9f-ad5b-33329870c4d6"
      },
      "source": [
        "\r\n",
        "len(df1)\r\n"
      ],
      "execution_count": 40,
      "outputs": [
        {
          "output_type": "execute_result",
          "data": {
            "text/plain": [
              "1258"
            ]
          },
          "metadata": {
            "tags": []
          },
          "execution_count": 40
        }
      ]
    },
    {
      "cell_type": "code",
      "metadata": {
        "colab": {
          "base_uri": "https://localhost:8080/",
          "height": 283
        },
        "id": "nbjsUaCE7xDf",
        "outputId": "bad82276-7383-40e2-9820-adaeadf91842"
      },
      "source": [
        "plt.plot(day_new,scaler.inverse_transform(df1[1158:]))\r\n",
        "plt.plot(day_pred,scaler.inverse_transform(lst_output))"
      ],
      "execution_count": 41,
      "outputs": [
        {
          "output_type": "execute_result",
          "data": {
            "text/plain": [
              "[<matplotlib.lines.Line2D at 0x7fed4b782e48>]"
            ]
          },
          "metadata": {
            "tags": []
          },
          "execution_count": 41
        },
        {
          "output_type": "display_data",
          "data": {
            "image/png": "[encoded data removed]",
            "text/plain": [
              "<Figure size 432x288 with 1 Axes>"
            ]
          },
          "metadata": {
            "tags": [],
            "needs_background": "light"
          }
        }
      ]
    },
    {
      "cell_type": "code",
      "metadata": {
        "colab": {
          "base_uri": "https://localhost:8080/",
          "height": 282
        },
        "id": "tLkRtByq741h",
        "outputId": "43ba679a-31d4-4a36-b671-a61d26df1997"
      },
      "source": [
        "df3=df1.tolist()\r\n",
        "df3.extend(lst_output)\r\n",
        "plt.plot(df3[1200:])"
      ],
      "execution_count": 42,
      "outputs": [
        {
          "output_type": "execute_result",
          "data": {
            "text/plain": [
              "[<matplotlib.lines.Line2D at 0x7fed4ced4cc0>]"
            ]
          },
          "metadata": {
            "tags": []
          },
          "execution_count": 42
        },
        {
          "output_type": "display_data",
          "data": {
            "image/png": "[encoded data removed]",
            "text/plain": [
              "<Figure size 432x288 with 1 Axes>"
            ]
          },
          "metadata": {
            "tags": [],
            "needs_background": "light"
          }
        }
      ]
    },
    {
      "cell_type": "code",
      "metadata": {
        "id": "4moYlq3j7_2O"
      },
      "source": [
        "df3=scaler.inverse_transform(df3).tolist()"
      ],
      "execution_count": 43,
      "outputs": []
    },
    {
      "cell_type": "code",
      "metadata": {
        "colab": {
          "base_uri": "https://localhost:8080/",
          "height": 282
        },
        "id": "BrnfXrfu8Geb",
        "outputId": "59114d0d-780a-4a4c-988e-ae236fff46c7"
      },
      "source": [
        "plt.plot(df3)"
      ],
      "execution_count": 44,
      "outputs": [
        {
          "output_type": "execute_result",
          "data": {
            "text/plain": [
              "[<matplotlib.lines.Line2D at 0x7fed4ced1dd8>]"
            ]
          },
          "metadata": {
            "tags": []
          },
          "execution_count": 44
        },
        {
          "output_type": "display_data",
          "data": {
            "image/png": "[encoded data removed]",
            "text/plain": [
              "<Figure size 432x288 with 1 Axes>"
            ]
          },
          "metadata": {
            "tags": [],
            "needs_background": "light"
          }
        }
      ]
    }
  ]
}